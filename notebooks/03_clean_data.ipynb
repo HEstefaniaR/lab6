{
 "cells": [
  {
   "cell_type": "code",
<<<<<<< HEAD
   "execution_count": 1,
=======
   "execution_count": 59,
>>>>>>> 79922766427995ec674541edf8acf3dee6cfdcaa
   "id": "adf55b09",
   "metadata": {},
   "outputs": [],
   "source": [
    "import pandas as pd\n",
    "from datetime import datetime\n",
    "import os\n",
    "import re\n",
    "\n",
    "customer_df = pd.read_csv(\"../data/raw/customer_data.csv\")\n",
    "retail_df = pd.read_csv(\"../data/raw/retail_data.csv\")\n"
   ]
  },
  {
   "cell_type": "markdown",
   "id": "42e15657",
   "metadata": {},
   "source": [
    "# Cleaning"
   ]
  },
  {
   "cell_type": "markdown",
   "id": "2939becf",
   "metadata": {},
   "source": [
    "Customer"
   ]
  },
  {
   "cell_type": "code",
<<<<<<< HEAD
   "execution_count": 2,
=======
   "execution_count": null,
>>>>>>> 79922766427995ec674541edf8acf3dee6cfdcaa
   "id": "e55b12cb",
   "metadata": {},
   "outputs": [],
   "source": [
    "# --- 1. signup_date: convertir a datetime y forzar rango 2020-01-01 hasta hoy\n",
    "customer_df['signup_date'] = pd.to_datetime(customer_df['signup_date'], errors='coerce')\n",
    "min_signup = pd.Timestamp(\"2020-01-01\")\n",
    "max_signup = pd.Timestamp.today()\n",
    "customer_df['signup_date'] = customer_df['signup_date'].clip(lower=min_signup, upper=max_signup)\n",
    "\n",
    "# --- 2. email: eliminar duplicados agregando índice si hay repetidos\n",
    "customer_df['email'] = customer_df['email'].astype(str)\n",
    "duplicates = customer_df.duplicated(subset=['email'], keep=False)\n",
    "customer_df.loc[duplicates, 'email'] = customer_df.loc[duplicates, 'email'] + '_' + customer_df.loc[duplicates].index.astype(str)\n",
    "\n",
    "# Validar formato de email y eliminar inválidos\n",
    "email_regex = r'^[a-zA-Z0-9._%+-]+@[a-zA-Z0-9.-]+\\.[a-zA-Z]{2,}$'\n",
    "customer_df = customer_df[customer_df['email'].str.match(email_regex)]\n",
    "\n",
    "# --- 3. phone: limpiar y estandarizar para cumplir regex\n",
    "# Limpiar phone para pasar match_regex\n",
    "customer_df['phone'] = customer_df['phone'].astype(str)\n",
    "customer_df['phone'] = customer_df['phone'].str.replace(r'\\D', '', regex=True)\n",
    "customer_df['phone'] = customer_df['phone'].apply(lambda x: '+' + x if len(x) >= 10 else '+0000000000')\n",
    "customer_df = customer_df.drop_duplicates(subset=['phone'])\n",
    "customer_df['phone'] = customer_df['phone'].astype(str).str.strip()\n",
    "customer_df = customer_df[customer_df['phone'].str.match(r'^\\+?\\d[\\d\\s-]+$')]\n",
    "\n",
    "# --- 4. age: asegurar rango 18-100 y tipo numérico\n",
    "customer_df['age'] = pd.to_numeric(customer_df['age'], errors='coerce')\n",
    "customer_df['age'] = customer_df['age'].clip(lower=18, upper=100)\n",
    "\n",
    "# --- 5. full_name: rellenar nulos\n",
    "customer_df['full_name'].fillna('Unknown', inplace=True)\n",
    "\n",
    "# --- 6. gender: filtrar valores válidos\n",
    "valid_genders = [\"Male\", \"Female\", \"M\", \"F\", \"male\", \"female\", \"Other\", \"other\"]\n",
    "customer_df = customer_df[customer_df['gender'].isin(valid_genders)]\n",
    "\n",
    "# --- 7. signup_date: eliminar nulos restantes y forzar rango histórico\n",
    "customer_df = customer_df[customer_df['signup_date'].notna()]\n",
    "customer_df = customer_df[(customer_df['signup_date'] >= \"1900-01-01\") & (customer_df['signup_date'] <= max_signup)]"
   ]
  },
  {
   "cell_type": "markdown",
   "id": "8f59c622",
   "metadata": {},
   "source": [
    "Retail"
   ]
  },
  {
   "cell_type": "code",
<<<<<<< HEAD
   "execution_count": 3,
=======
   "execution_count": null,
>>>>>>> 79922766427995ec674541edf8acf3dee6cfdcaa
   "id": "bc3d6a01",
   "metadata": {},
   "outputs": [],
   "source": [
    "# Normalizar columnas\n",
    "retail_df.columns = retail_df.columns.str.strip().str.lower()\n",
    "\n",
    "# 1. transaction_id único y no nulo\n",
    "retail_df.drop_duplicates(subset=['transaction_id'], inplace=True)\n",
    "retail_df['transaction_id'].fillna(-1, inplace=True)  \n",
    "\n",
    "# 2. purchase_date: convertir a datetime y forzar rango 2025-01-01 hasta hoy\n",
    "retail_df['purchase_date'] = pd.to_datetime(retail_df['purchase_date'], errors='coerce')\n",
    "min_date = pd.Timestamp(\"2025-01-01\")\n",
    "max_date = pd.Timestamp.today().normalize()\n",
    "retail_df['purchase_date'] = retail_df['purchase_date'].apply(\n",
    "    lambda x: min_date if pd.isna(x) or x < min_date else (max_date if x > max_date else x)\n",
    ")\n",
    "retail_df['purchase_date'] = pd.to_datetime(retail_df['purchase_date'], errors='coerce')\n",
    "assert retail_df['purchase_date'].notnull().all(), \"Aún hay NaT en purchase_date\"\n",
    "assert (retail_df['purchase_date'] >= min_date).all() and (retail_df['purchase_date'] <= max_date).all(), \\\n",
    "       \"Algunos valores de purchase_date están fuera del rango\"\n",
    "\n",
    "# 3. amount: convertir a float y asegurar rango 0.01-10000\n",
    "retail_df['amount'] = pd.to_numeric(retail_df['amount'], errors='coerce').fillna(0.01)\n",
    "retail_df['amount'] = retail_df['amount'].clip(lower=0.01, upper=10000)\n",
    "\n",
    "# 4. product_category: reemplazar nulos y vacíos\n",
    "retail_df['product_category'].fillna('No specified', inplace=True)\n",
    "retail_df['product_category'] = retail_df['product_category'].replace(\"\", \"No specified\")\n"
   ]
  },
  {
   "cell_type": "code",
<<<<<<< HEAD
   "execution_count": 4,
=======
   "execution_count": 62,
>>>>>>> 79922766427995ec674541edf8acf3dee6cfdcaa
   "id": "c8f7b60b",
   "metadata": {},
   "outputs": [
    {
     "name": "stdout",
     "output_type": "stream",
     "text": [
      "\n",
      "--- Customer Data ---\n",
      "<class 'pandas.core.frame.DataFrame'>\n",
      "Index: 258 entries, 0 to 999\n",
      "Data columns (total 9 columns):\n",
      " #   Column       Non-Null Count  Dtype         \n",
      "---  ------       --------------  -----         \n",
      " 0   id           258 non-null    int64         \n",
      " 1   full_name    258 non-null    object        \n",
      " 2   email        258 non-null    object        \n",
      " 3   phone        258 non-null    object        \n",
      " 4   address      233 non-null    object        \n",
      " 5   signup_date  258 non-null    datetime64[ns]\n",
      " 6   name         258 non-null    object        \n",
      " 7   gender       258 non-null    object        \n",
      " 8   age          258 non-null    int64         \n",
      "dtypes: datetime64[ns](1), int64(2), object(6)\n",
      "memory usage: 20.2+ KB\n",
      "None\n",
      "\n",
      "Nulos por columna:\n",
      "id              0\n",
      "full_name       0\n",
      "email           0\n",
      "phone           0\n",
      "address        25\n",
      "signup_date     0\n",
      "name            0\n",
      "gender          0\n",
      "age             0\n",
      "dtype: int64\n",
      "\n",
      "--- Retail Data ---\n",
      "<class 'pandas.core.frame.DataFrame'>\n",
      "Index: 100 entries, 0 to 443\n",
      "Data columns (total 5 columns):\n",
      " #   Column            Non-Null Count  Dtype         \n",
      "---  ------            --------------  -----         \n",
      " 0   customer_id       100 non-null    int64         \n",
      " 1   purchase_date     100 non-null    datetime64[ns]\n",
      " 2   product_category  100 non-null    object        \n",
      " 3   amount            100 non-null    float64       \n",
      " 4   transaction_id    100 non-null    int64         \n",
      "dtypes: datetime64[ns](1), float64(1), int64(2), object(1)\n",
      "memory usage: 4.7+ KB\n",
      "None\n",
      "\n",
      "Nulos por columna:\n",
      "customer_id         0\n",
      "purchase_date       0\n",
      "product_category    0\n",
      "amount              0\n",
      "transaction_id      0\n",
      "dtype: int64\n",
      "\n",
      "Limpieza completada correctamente.\n"
     ]
    }
   ],
   "source": [
    "print(\"\\n--- Customer Data ---\")\n",
    "print(customer_df.info())\n",
    "print(\"\\nNulos por columna:\")\n",
    "print(customer_df.isnull().sum())\n",
    "\n",
    "print(\"\\n--- Retail Data ---\")\n",
    "print(retail_df.info())\n",
    "print(\"\\nNulos por columna:\")\n",
    "print(retail_df.isnull().sum())\n",
    "\n",
    "print(\"\\nLimpieza completada correctamente.\")"
   ]
  },
  {
   "cell_type": "code",
<<<<<<< HEAD
   "execution_count": 5,
=======
   "execution_count": 63,
>>>>>>> 79922766427995ec674541edf8acf3dee6cfdcaa
   "id": "e7fa11fc",
   "metadata": {},
   "outputs": [
    {
     "name": "stdout",
     "output_type": "stream",
     "text": [
      "Cleaned customer data saved at: ../data/clean/customer_data_clean.csv\n",
      "Cleaned retail data saved at: ../data/clean/retail_data_clean.csv\n"
     ]
    }
   ],
   "source": [
    "# Crear carpeta clean si no existe\n",
    "os.makedirs(\"../data/clean\", exist_ok=True)\n",
    "\n",
    "# Rutas de guardado\n",
    "customer_clean_path = \"../data/clean/customer_data_clean.csv\"\n",
    "retail_clean_path = \"../data/clean/retail_data_clean.csv\"\n",
    "\n",
    "# Guardar los CSV limpios\n",
    "customer_df.to_csv(customer_clean_path, index=False)\n",
    "retail_df.to_csv(retail_clean_path, index=False)\n",
    "\n",
    "print(f\"Cleaned customer data saved at: {customer_clean_path}\")\n",
    "print(f\"Cleaned retail data saved at: {retail_clean_path}\")"
   ]
  }
 ],
 "metadata": {
  "kernelspec": {
   "display_name": "Python 3",
   "language": "python",
   "name": "python3"
  },
  "language_info": {
   "codemirror_mode": {
    "name": "ipython",
    "version": 3
   },
   "file_extension": ".py",
   "mimetype": "text/x-python",
   "name": "python",
   "nbconvert_exporter": "python",
   "pygments_lexer": "ipython3",
   "version": "3.12.10"
  }
 },
 "nbformat": 4,
 "nbformat_minor": 5
}
