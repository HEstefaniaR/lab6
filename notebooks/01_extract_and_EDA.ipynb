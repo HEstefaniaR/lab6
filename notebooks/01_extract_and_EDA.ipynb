{
 "cells": [
  {
   "cell_type": "markdown",
   "id": "7e93872e",
   "metadata": {},
   "source": [
    "# 01 - Extract & EDA  \n",
    "**Objective:** Load the raw data, explore structure, nulls, duplicates, and generate summary files that will be used by the following notebooks.  "
   ]
  },
  {
   "cell_type": "code",
<<<<<<< HEAD
   "execution_count": 11,
=======
   "execution_count": 1,
>>>>>>> 79922766427995ec674541edf8acf3dee6cfdcaa
   "id": "67c66341",
   "metadata": {},
   "outputs": [],
   "source": [
    "import pandas as pd\n",
    "import matplotlib.pyplot as plt\n",
    "import seaborn as sns\n",
    "from pathlib import Path"
   ]
  },
  {
   "cell_type": "markdown",
   "id": "53f40720",
   "metadata": {},
   "source": [
    "**Extract** the data"
   ]
  },
  {
   "cell_type": "code",
<<<<<<< HEAD
   "execution_count": 12,
=======
   "execution_count": 2,
>>>>>>> 79922766427995ec674541edf8acf3dee6cfdcaa
   "id": "b59fc83c",
   "metadata": {},
   "outputs": [
    {
     "name": "stdout",
     "output_type": "stream",
     "text": [
      "Datos de clientes:\n",
      "   id         full_name                           email           phone  \\\n",
      "0   1          Kara Kim          kara.kim1924@yahoo.com    804-681-7662   \n",
      "1   2   Kelly Peterson                              NaN  (467) 700-2147   \n",
      "2   3     Henry Martin        henry.martin0365@mail.com  (378) 615-9326   \n",
      "3   4     Walter Evans     walter.evans9757@hotmail.com    406-811-1412   \n",
      "4   5  William Anderson  william.anderson8799@gmail.com    260-206-8340   \n",
      "\n",
      "                                address signup_date    name  gender  age  \n",
      "0   8971 Pine Ave, Greenville, TX 76366  2022-03-13   Elena  Female   60  \n",
      "1      7619 Cedar Ln, Madison, CA 32004  10/04/2019     Bob  Female   50  \n",
      "2     785 Elm St, Centerville, FL 70040  01/11/2019  Carlos    Male   36  \n",
      "3    9383 Elm St, Springfield, TX 27467  09/22/2021   Diana  Female   64  \n",
      "4  615 Sunset Blvd, Riverside, IL 02711  11/15/2020  George  Female   29  \n"
     ]
    }
   ],
   "source": [
    "customer_df = pd.read_csv('../data/raw/customer_data.csv')\n",
    "\n",
    "print(\"Datos de clientes:\")\n",
    "print(customer_df.head())"
   ]
  },
  {
   "cell_type": "code",
<<<<<<< HEAD
   "execution_count": 13,
=======
   "execution_count": null,
>>>>>>> 79922766427995ec674541edf8acf3dee6cfdcaa
   "id": "b0246ab9",
   "metadata": {},
   "outputs": [
    {
     "name": "stdout",
     "output_type": "stream",
     "text": [
      "\n",
      "Datos de ventas:\n",
      "   customer_id purchase_date product_category  amount  transaction_id\n",
      "0          230    2025-05-11         Clothing  181.73            1034\n",
      "1          630    2025-06-19      Electronics  442.32            1020\n",
      "2          867    2025-02-16   Home & Kitchen  263.12            1049\n",
      "3          763    2025-02-13   Home & Kitchen  434.05            1058\n",
      "4          758    2025-04-15         Clothing   489.6            1077\n",
      "5          332           NaN   Home & Kitchen   75.58            1018\n",
      "6          553    2025-08-27         Clothing   403.2            1048\n",
      "7          999    2025-04-14           Sports  305.51            1053\n",
      "8          731    2025-06-15             Toys   325.0            1057\n",
      "9          349    2025-08-22   Home & Kitchen  169.43            1018\n"
     ]
    }
   ],
   "source": [
    "retail_df = pd.read_csv('../data/raw/retail_data.csv')\n",
    "\n",
    "print(\"\\nDatos de ventas:\")\n",
    "print(retail_df.head(10))"
   ]
  },
  {
   "cell_type": "code",
<<<<<<< HEAD
   "execution_count": 14,
=======
   "execution_count": 4,
>>>>>>> 79922766427995ec674541edf8acf3dee6cfdcaa
   "id": "c4f7fadd",
   "metadata": {},
   "outputs": [],
   "source": [
    "# CORREGIR COLUMNA IDs Y COSTUMER_ID\n",
    "\n",
    "#retail_df.rename(columns={\"customer_id\": \"temp_id\"}, inplace=True)\n",
    "#retail_df.rename(columns={\"id\": \"customer_id\"}, inplace=True)\n",
    "#retail_df.rename(columns={\"temp_id\": \"transaction_id\"}, inplace=True)\n",
    "#print(retail_df.columns.tolist())\n",
    "\n",
    "# Guardar el archivo reemplazando el original\n",
    "#retail_df.to_csv(\"../data/raw/retail_data.csv\", index=False)"
   ]
  },
  {
   "cell_type": "markdown",
   "id": "897a92be",
   "metadata": {},
   "source": [
    "### **Exploratory Data Analysis**\n",
    "\n",
    "Explore the dataset to understand distributions, detect anomalies, and prepare for validation."
   ]
  },
  {
   "cell_type": "code",
<<<<<<< HEAD
   "execution_count": 15,
=======
   "execution_count": 5,
>>>>>>> 79922766427995ec674541edf8acf3dee6cfdcaa
   "id": "22cc2279",
   "metadata": {},
   "outputs": [
    {
     "name": "stdout",
     "output_type": "stream",
     "text": [
      "Dimensiones de customer_df\n",
      "(1000, 9)\n",
      "\n",
      "Tipos de datos:\n",
      "id              int64\n",
      "full_name      object\n",
      "email          object\n",
      "phone          object\n",
      "address        object\n",
      "signup_date    object\n",
      "name           object\n",
      "gender         object\n",
      "age             int64\n",
      "dtype: object\n",
      "\n",
      "Valores nulos por columna:\n",
      "id               0\n",
      "full_name       84\n",
      "email          108\n",
      "phone           98\n",
      "address        103\n",
      "signup_date     98\n",
      "name             0\n",
      "gender           0\n",
      "age              0\n",
      "dtype: int64\n",
      "\n",
      "Conteo de valores por columna:\n",
      "id             1000\n",
      "full_name       883\n",
      "email           892\n",
      "phone           902\n",
      "address         897\n",
      "signup_date     823\n",
      "name              8\n",
      "gender            2\n",
      "age              47\n",
      "dtype: int64\n",
      "\n",
      "Duplicados en customer_df: 0\n",
      "\n",
      "--- Estadísticas descriptivas de customer_df ---\n",
      "                id          age\n",
      "count  1000.000000  1000.000000\n",
      "mean    500.500000    43.854000\n",
      "std     288.819436    16.518158\n",
      "min       1.000000    15.000000\n",
      "25%     250.750000    32.000000\n",
      "50%     500.500000    44.000000\n",
      "75%     750.250000    54.000000\n",
      "max    1000.000000   150.000000\n",
      "\n",
      "--- Estadísticas descriptivas categóricas ---\n",
      "\n",
      "Columna 'full_name':\n",
      "full_name\n",
      "NaN                84\n",
      "Tyler Ortiz         3\n",
      "Kevin Gutierrez     2\n",
      "Henry Cooper        2\n",
      "Amber Rogers        2\n",
      "Name: count, dtype: int64\n",
      "\n",
      "Columna 'email':\n",
      "email\n",
      "NaN                              108\n",
      "wendy.campbell4999@mail.com        1\n",
      "john.flores6784@hotmail.com        1\n",
      "holly.evans4376@yahoo.com          1\n",
      "melissa.sanders6621@yahoo.com      1\n",
      "Name: count, dtype: int64\n",
      "\n",
      "Columna 'phone':\n",
      "phone\n",
      "NaN                  98\n",
      "804-681-7662          1\n",
      "(553) 506-6285        1\n",
      "(228) 983-8115        1\n",
      "+1 (922) 825-2841     1\n",
      "Name: count, dtype: int64\n",
      "\n",
      "Columna 'address':\n",
      "address\n",
      "NaN                                                103\n",
      "8971 Pine Ave, Greenville, TX 76366                  1\n",
      " 5724 Maple Dr, Apt 99, Greenville, CA 80177         1\n",
      "4070 Washington Blvd, Apt 40, Madison, TX 45112      1\n",
      "243 Lakeview Dr, Greenville, FL 50914                1\n",
      "Name: count, dtype: int64\n",
      "\n",
      "Columna 'signup_date':\n",
      "signup_date\n",
      "NaN           98\n",
      "2023-11-28     3\n",
      "2022-03-15     3\n",
      "2022-02-12     3\n",
      "01/10/2020     3\n",
      "Name: count, dtype: int64\n",
      "\n",
      "Columna 'name':\n",
      "name\n",
      "Bob       138\n",
      "Hannah    134\n",
      "Elena     133\n",
      "Alice     132\n",
      "Frank     125\n",
      "Name: count, dtype: int64\n",
      "\n",
      "Columna 'gender':\n",
      "gender\n",
      "Female    684\n",
      "Male      316\n",
      "Name: count, dtype: int64\n",
      "\n",
      "--- Problemas potenciales ---\n",
      "Edades inválidas (<0 o >120):\n",
      "      id  age\n",
      "115  116  150\n",
      "451  452  150\n",
      "469  470  150\n",
      "532  533  150\n",
      "681  682  150\n",
      "919  920  150\n",
      "941  942  150\n",
      "Emails inválidos (108 registros):\n",
      "      id email\n",
      "1      2   NaN\n",
      "19    20   NaN\n",
      "33    34   NaN\n",
      "36    37   NaN\n",
      "38    39   NaN\n",
      "..   ...   ...\n",
      "946  947   NaN\n",
      "952  953   NaN\n",
      "963  964   NaN\n",
      "973  974   NaN\n",
      "993  994   NaN\n",
      "\n",
      "[108 rows x 2 columns]\n",
      "Teléfonos inválidos (765 registros):\n",
      "      id              phone\n",
      "1      2     (467) 700-2147\n",
      "2      3     (378) 615-9326\n",
      "5      6                NaN\n",
      "6      7     (899) 966-2474\n",
      "7      8     (636) 456-9660\n",
      "..   ...                ...\n",
      "991  992     (865) 841-5623\n",
      "993  994  +1 (635) 986-3530\n",
      "995  996     (742) 990-9163\n",
      "996  997     (905) 994-3879\n",
      "997  998     (410) 204-3172\n",
      "\n",
      "[765 rows x 2 columns]\n",
      "Fechas de signup inválidas (680 registros):\n",
      "      id signup_date\n",
      "1      2  10/04/2019\n",
      "2      3  01/11/2019\n",
      "3      4  09/22/2021\n",
      "4      5  11/15/2020\n",
      "9     10  24-09-2019\n",
      "..   ...         ...\n",
      "993  994  09/21/2020\n",
      "995  996  12/08/2019\n",
      "996  997  06/09/2019\n",
      "997  998  08/31/2020\n",
      "998  999  09/18/2022\n",
      "\n",
      "[680 rows x 2 columns]\n"
     ]
    }
   ],
   "source": [
    "print('Dimensiones de customer_df')\n",
    "print(customer_df.shape)\n",
    "\n",
    "print('\\nTipos de datos:')\n",
    "print(customer_df.dtypes)\n",
    "\n",
    "print('\\nValores nulos por columna:')\n",
    "print(customer_df.isnull().sum())\n",
    "\n",
    "print('\\nConteo de valores por columna:')\n",
    "print(customer_df.nunique())\n",
    "\n",
    "print('\\nDuplicados en customer_df:', customer_df.duplicated().sum())\n",
    "\n",
    "print('\\n--- Estadísticas descriptivas de customer_df ---')\n",
    "print(customer_df.describe()) \n",
    "\n",
    "print(\"\\n--- Estadísticas descriptivas categóricas ---\")\n",
    "for col in customer_df.select_dtypes(include='object'):\n",
    "    print(f\"\\nColumna '{col}':\")\n",
    "    print(customer_df[col].value_counts(dropna=False).head(5))\n",
    "\n",
    "# Revisión de rangos y formatos\n",
    "print(\"\\n--- Problemas potenciales ---\")\n",
    "# Edad negativa o fuera de rango\n",
    "print(\"Edades inválidas (<0 o >120):\")\n",
    "print(customer_df[(customer_df['age'] < 0) | (customer_df['age'] > 120)][['id','age']])\n",
    "\n",
    "# Emails inválidos\n",
    "invalid_emails = customer_df[~customer_df['email'].str.match(r'^[\\w\\.-]+@[\\w\\.-]+\\.\\w+$', na=False)]\n",
    "print(f\"Emails inválidos ({len(invalid_emails)} registros):\")\n",
    "print(invalid_emails[['id','email']])\n",
    "\n",
    "# Teléfonos con formato inválido\n",
    "invalid_phones = customer_df[~customer_df['phone'].str.match(r'^\\+?\\d[\\d\\s-]+$', na=False)]\n",
    "print(f\"Teléfonos inválidos ({len(invalid_phones)} registros):\")\n",
    "print(invalid_phones[['id','phone']])\n",
    "\n",
    "# Fechas no válidas (no convertible a datetime)\n",
    "signup_invalid = customer_df[pd.to_datetime(customer_df['signup_date'], errors='coerce').isna()]\n",
    "print(f\"Fechas de signup inválidas ({len(signup_invalid)} registros):\")\n",
    "print(signup_invalid[['id','signup_date']])\n",
    "\n"
   ]
  },
  {
   "cell_type": "code",
<<<<<<< HEAD
   "execution_count": 16,
=======
   "execution_count": 6,
>>>>>>> 79922766427995ec674541edf8acf3dee6cfdcaa
   "id": "899df7a3",
   "metadata": {},
   "outputs": [
    {
     "name": "stdout",
     "output_type": "stream",
     "text": [
      "\n",
      "\n",
      "=== RETAIL DATA ===\n",
      "\n",
      "Dimensiones: (820, 5)\n",
      "\n",
      "Tipos de datos:\n",
      "customer_id          int64\n",
      "purchase_date       object\n",
      "product_category    object\n",
      "amount              object\n",
      "transaction_id       int64\n",
      "dtype: object\n",
      "\n",
      "Valores nulos por columna:\n",
      "purchase_date       24\n",
      "product_category    24\n",
      "amount              24\n",
      "customer_id          0\n",
      "transaction_id       0\n",
      "dtype: int64\n",
      "\n",
      "Valores únicos por columna:\n",
      "customer_id         800\n",
      "purchase_date       243\n",
      "product_category      5\n",
      "amount              762\n",
      "transaction_id      100\n",
      "dtype: int64\n",
      "\n",
      "Duplicados globales: 18\n",
      "Duplicados en 'transaction_id': 720\n",
      "\n",
      "--- Estadísticas descriptivas numéricas ---\n",
      "       customer_id  transaction_id\n",
      "count   820.000000      820.000000\n",
      "mean    500.884146     1049.423171\n",
      "std     290.138248       27.956100\n",
      "min       1.000000     1000.000000\n",
      "25%     250.750000     1026.000000\n",
      "50%     499.000000     1050.000000\n",
      "75%     752.250000     1073.000000\n",
      "max    1000.000000     1099.000000\n",
      "\n",
      "--- Estadísticas descriptivas categóricas ---\n",
      "\n",
      "Columna 'purchase_date':\n",
      "purchase_date\n",
      "NaN           24\n",
      "2025-01-12     8\n",
      "2025-02-08     8\n",
      "2025-06-06     8\n",
      "2025-09-08     7\n",
      "Name: count, dtype: int64\n",
      "\n",
      "Columna 'product_category':\n",
      "product_category\n",
      "Sports            179\n",
      "Clothing          167\n",
      "Electronics       158\n",
      "Toys              158\n",
      "Home & Kitchen    134\n",
      "Name: count, dtype: int64\n",
      "\n",
      "Columna 'amount':\n",
      "amount\n",
      "NaN        24\n",
      "invalid    10\n",
      "263.12      3\n",
      "261.39      2\n",
      "357.96      2\n",
      "Name: count, dtype: int64\n",
      "\n",
      "--- Problemas potenciales ---\n",
      "Montos negativos o >10000:\n",
      "     transaction_id  amount\n",
      "39             1019   -61.0\n",
      "83             1066    -2.0\n",
      "146            1022   -87.0\n",
      "192            1056   -35.0\n",
      "295            1021   -55.0\n",
      "314            1074   -64.0\n",
      "336            1033   -31.0\n",
      "694            1012   -44.0\n",
      "726            1091   -41.0\n",
      "738            1027    -9.0\n",
      "Fechas de compra inválidas:\n",
      "     transaction_id purchase_date\n",
      "5              1018           NaN\n",
      "43             1057           NaN\n",
      "82             1053           NaN\n",
      "83             1066           NaN\n",
      "179            1090           NaN\n",
      "184            1048           NaN\n",
      "262            1021           NaN\n",
      "311            1057           NaN\n",
      "318            1076           NaN\n",
      "357            1049           NaN\n",
      "370            1040           NaN\n",
      "402            1079           NaN\n",
      "458            1063           NaN\n",
      "484            1048           NaN\n",
      "500            1095           NaN\n",
      "505            1091           NaN\n",
      "585            1058           NaN\n",
      "605            1046           NaN\n",
      "641            1040           NaN\n",
      "698            1067           NaN\n",
      "703            1096           NaN\n",
      "706            1097           NaN\n",
      "721            1047           NaN\n",
      "774            1063           NaN\n"
     ]
    }
   ],
   "source": [
    "print(\"\\n\\n=== RETAIL DATA ===\")\n",
    "print(\"\\nDimensiones:\", retail_df.shape)\n",
    "print(\"\\nTipos de datos:\")\n",
    "print(retail_df.dtypes)\n",
    "\n",
    "print(\"\\nValores nulos por columna:\")\n",
    "print((retail_df.isnull().sum()).sort_values(ascending=False))\n",
    "\n",
    "print(\"\\nValores únicos por columna:\")\n",
    "print(retail_df.nunique())\n",
    "\n",
    "print(\"\\nDuplicados globales:\", retail_df.duplicated().sum())\n",
    "print(\"Duplicados en 'transaction_id':\", retail_df['transaction_id'].duplicated().sum())\n",
    "\n",
    "print(\"\\n--- Estadísticas descriptivas numéricas ---\")\n",
    "print(retail_df.describe())\n",
    "\n",
    "print(\"\\n--- Estadísticas descriptivas categóricas ---\")\n",
    "for col in retail_df.select_dtypes(include='object'):\n",
    "    print(f\"\\nColumna '{col}':\")\n",
    "    print(retail_df[col].value_counts(dropna=False).head(5))\n",
    "\n",
    "# Revisión de rangos y formatos\n",
    "print(\"\\n--- Problemas potenciales ---\")\n",
    "# Montos negativos o demasiado altos\n",
    "retail_df['amount'] = pd.to_numeric(retail_df['amount'], errors='coerce')\n",
    "print(\"Montos negativos o >10000:\")\n",
    "print(retail_df[(retail_df['amount'] < 0) | (retail_df['amount'] > 10000)][['transaction_id','amount']])\n",
    "\n",
    "# Fechas no válidas\n",
    "purchase_invalid = pd.to_datetime(retail_df['purchase_date'], errors='coerce').isna()\n",
    "print(\"Fechas de compra inválidas:\")\n",
    "print(retail_df[purchase_invalid][['transaction_id','purchase_date']])"
   ]
  },
  {
   "cell_type": "code",
<<<<<<< HEAD
   "execution_count": 17,
=======
   "execution_count": 7,
>>>>>>> 79922766427995ec674541edf8acf3dee6cfdcaa
   "id": "ba162e21",
   "metadata": {},
   "outputs": [
    {
     "data": {
      "text/plain": [
       "array(['Clothing', 'Electronics', 'Home & Kitchen', 'Sports', 'Toys', nan],\n",
       "      dtype=object)"
      ]
     },
<<<<<<< HEAD
     "execution_count": 17,
=======
     "execution_count": 7,
>>>>>>> 79922766427995ec674541edf8acf3dee6cfdcaa
     "metadata": {},
     "output_type": "execute_result"
    }
   ],
   "source": [
    "retail_df['product_category'].unique()"
   ]
  },
  {
   "cell_type": "markdown",
   "id": "447b1ee0",
   "metadata": {},
   "source": [
    "### Histograma de edades de clientes"
   ]
  },
  {
   "cell_type": "code",
<<<<<<< HEAD
   "execution_count": 18,
=======
   "execution_count": 8,
>>>>>>> 79922766427995ec674541edf8acf3dee6cfdcaa
   "id": "feffd199",
   "metadata": {},
   "outputs": [
    {
     "data": {
      "image/png": "iVBORw0KGgoAAAANSUhEUgAAArcAAAHWCAYAAABt3aEVAAAAOnRFWHRTb2Z0d2FyZQBNYXRwbG90bGliIHZlcnNpb24zLjEwLjYsIGh0dHBzOi8vbWF0cGxvdGxpYi5vcmcvq6yFwwAAAAlwSFlzAAAPYQAAD2EBqD+naQAAYaZJREFUeJzt3Ql8U2XW+PGTrelGW0qBAlJEVMANFRBRXjcYEXdx3F4cURl8XRDF+bugo46OiruOy4j6Ks6i4+iMMi6vuOIyIzCA4sogKAKyytKWbmmW+/+cp0lsSlvSkj2/7+dzSXqT5t7chObk3POcx2ZZliUAAABABrAnewcAAACAWCG4BQAAQMYguAUAAEDGILgFAABAxiC4BQAAQMYguAUAAEDGILgFAABAxiC4BQAAQMYguAUAAEDGILgFMtjuu+8u559/frJ3Iyul2rHXfdF9iiWbzSa/+c1vJNnef/99sy96mUgtn/8zzzxj1n3//fcJ3Q8AkQhugTQR+uBctGhRq7cfddRRst9+++3ydv7v//4vJQIWADuqq6sz/z8THcgD6YTgFshgy5YtkyeffLLDwe0tt9wSt30CMtUvfvELqa+vl379+sU1uNX/nwS3QNsIboEM5na7xeVySTqpra1N9i4AneJwOCQ3N9ecYQGQPAS3QBbVfXq9XpP12WuvvcyHcLdu3WTUqFHy9ttvm9v1vo8++qi5rh/QoaV54PmrX/1K+vbtawLngQMHyr333iuWZUVsV7NXU6dOlbKyMunSpYucfPLJsnbt2h1qFPW6rvv666/lv//7v6Vr165mf9Tnn39u9mePPfYw+1peXi4XXnihbNmyJWJbocf45ptv5Nxzz5Xi4mLp3r273HjjjWa/1qxZI6eccooUFRWZx7jvvvsifr+xsVFuuukmGTp0qPndgoIC+a//+i+ZO3duVMdYt3HbbbfJbrvtJvn5+XL00UfLV1991ep9Kysr5corrwwfvz333FPuuusuCQQCUW3rjTfeMPum+6jH9YQTTmh1W7NnzzYlKnrc9PLll19u9fH0tTvssMPM+yAvL88cg7/97W873M/j8ci0adPMcQ29nj/88EOrj6mvs75OPXv2NM9x3333laeffnqH+z388MPmNj1m+roPGzZMnnvuuZ0eA93uqaeeao5Bjx49zH7p/rVmwYIFctxxx5nXVbdz5JFHyr/+9S+JRkNDg3lv7b333uY49urVS8aPHy/ffvttm7/TVs1tNK+bvtcLCwvN8dPnp9f1eP+///f/xO/3m/vo4+o6pf+PQ/8/m/+f+s9//iM///nPpbS01Oy3HtdXXnklYls7+zsApDtnsncAQMdUVVXJ5s2bd1ivH1g7ox+CM2bMkF/+8pdyyCGHSHV1tanh/eSTT+RnP/uZ/M///I+sW7fOfMj96U9/2iGI06BGg75JkybJgQceKG+++aZcffXV5gP5gQceiPigfuGFF8xp2kMPPVQ++OAD84HeljPOOMN80N5xxx3hQFn34bvvvpMLLrjABKUaDDzxxBPmcv78+Ttkx8466ywZPHiw3HnnnfL666+bgFM/4B9//HE55phjTBD57LPPmmBh+PDhcsQRR5jf02Pwv//7v3LOOefI5MmTZfv27fLUU0/J2LFj5d///rd5nu3RwFi3dfzxx5tFj+Wxxx5rguaWp5M1uNJjpce5oqJCPv74Y5k+fbqsX79eHnzwwXa3o6/HxIkTzX7pc9HHe+yxx0xQ8umnn4YHi7311lty+umnyz777GNea/0yoMdQg++Wfve735nXdMKECWZ/n3/+efNavPbaaxGvl75f/vznP5svIBoMv/fee62+nhs3bjSvt742U6ZMMYGYBnb6ftHjrIG90lIZ/fKjQdgVV1xhAkn9MqPBqG6jLfqlafTo0bJ69Wrz+7179zbHRfenJV03btw4E7DffPPNYrfbZdasWea98NFHH5n3f1s0mDzxxBPl3XfflbPPPtvso74v9D355ZdfyoABAyRa0b5uoe3q/UaMGGG+eLzzzjvmy5hu75JLLjHHU39Xr5922mkm2FYHHHCAudT/G4cffrj06dNHrrvuOhNM6/9DDZb//ve/m9+J5u8AkPYsAGlh1qxZGvW1u+y7774Rv9OvXz9r4sSJ4Z+HDBlinXDCCe1u57LLLjOP1dLs2bPN+ttuuy1i/c9//nPLZrNZK1asMD8vXrzY3O/KK6+MuN/5559v1t98883hdXpd151zzjk7bK+urm6HdX/5y1/M/T/88MMdHuOiiy4Kr/P5fNZuu+1m9uvOO+8Mr9+2bZuVl5cXcUz0vh6PJ2I7er+ePXtaF154YTtHyrI2bdpk5eTkmGMaCATC66+//nqzT82389vf/tYqKCiwvvnmm4jHuO666yyHw2GtXr26ze1s377dKikpsSZPnhyxfsOGDVZxcXHE+gMPPNDq1auXVVlZGV731ltvmf3R90N7x7ixsdHab7/9rGOOOSa8bsmSJeZ3L7300oj7/vd///cOr+ekSZPMtjdv3hxx37PPPtvsZ2h7p5xyyg7v1Wg8+OCDZpsvvPBCeF1tba215557mvVz58416/S12GuvvayxY8dGvC66/f79+1s/+9nP2t3O008/bR7v/vvv3+G25o/X8vmH/o+uXLmyw6+bvlf0d2+99daI+x500EHW0KFDwz//+OOPO2w3ZPTo0db+++9vNTQ0ROzvYYcdZo5HR/4OAOmMsgQgzWjZgGaQWi6h7E17SkpKTHZn+fLlHd6uDjTTmkLNmDWnZQr6Oa8ZOjVnzhxzeemll0bc7/LLL2/zsS+++OId1ulp8hDN7Gm2WrOCSjNMLWkWKkT3U0/H6n5p1rD589dSCs0IN79vTk6Oua7lAVu3bhWfz2d+v7XtNKeZNc146nNrnkkOZSibe/HFF82paT0Fr88ltIwZM8Zk7D788MM2t6Ovr5Y0aHa5+e/qvmuWL1RCoRngJUuWmEyhnooP0WycZnLbO8bbtm0zZwV0H5s/b33dVcvXveVz1GOt2cGTTjrJXG++n5qN1McOPa6+DlpesHDhQukI3RctD9CMb4iWG1x00UUR99NjoO9xzQJr5jq0H1pWo5lfPdbtlYLo89CSmtbesx2pp432dWvv/4K+Hs3fr23R961mq88880yTZQ5tS5+/Hn89HnrWYFf/DgDpgLIEIM3oaUQNvFoKBU3tufXWW039qdYRai2m1iNq6UA0gfGqVavMaWCtGWxOSwFCt4cu9RRw//79I+6n9aVtaXnf0Ie11gXqqfJNmzZF3KaBUkt6mr85De60nlCDlJbrW9bt/uEPfzCnf7VesXl5R2v71VzoOWtJRXN6+lhfj+Y0kNBT76GayZZaPseWv6v0lHprtJ64vf1RGtS3DNa1/EBLKjQYbF632jyAC72eLU/F6+M19+OPP5pATktHdGnvOV577bXmi4G+l/V9oWUcGojqKfX26L7o/VsGmC33JXS8NMhvi76HWr5GIVpXq4/pdO7aR2S0r1uIvl9bvj90H/WLx86sWLHCfKnQWnNd2jr+WrKwK38HgHRAcAtkEa0z1Q/uf/zjH6Y2U2tNtVZ25syZEZnPRGueQQzRDJTWpGpNr9a96gAbzbbpB3FrWTfNhkWzTjUfAKe1pFojrHWJui0dpKS/pzWJ7Q0e6ijdZ82gXnPNNa3eroFGe78bqt/U+uOWOhOEad2p1tvqe+L3v/+9yYhqZw2tS41mYFdb+6iD+toKKkPBk34h0jZ1Glxrpl8zpboPWr8cizZ0oX2555572qyZ1vdTvHX0dWvr/dqRbWlNuWZqWxP6gpmqfweAWCG4BbKMDrLSAUa61NTUmA86HWAS+lBr67Sr9u7UbJue8myevdVsZ+j20KV+0K5cuTIig6iZpWhppkoH82igowFPSDxOo2p3AO3I8NJLL0U8dx2EtDOh56z7pY/RPIvZMtummU893lqG0FGhrKkG3u39fvP9aUmDyeY0oNRMoQ4K1K4GIRrctnxMfT1D2cy2Hi/USUFLLKJ5jjrYSQcB6qKlHTo46vbbbzcD7HS/2np+OqBLv5w0f61a7kvoeGlmtLPHWwe3aRZ/V1rpRfu6dURb/z9D7z/d32i2tbO/A0A6o+YWyCItT8dr9kqzOc1PSWvQofQUc3PaCUADl0ceeSRivWZ89ANXR6arUNZIM3EtWz9FK5TBatlibGcdBTqjtW1pYDNv3ryd/q4GERpM6HNr/vut7admovUxNZhsSY+11vm2RY+pBmraTaK1rhgaTCvNvmqmUsssmpduaO2ntltr+bz1dQu1mQq1mtI2Ys2FXteHHnooYn3L56iPp10aNGjWALStfWztfag1z1oTrMewva4f+h7Ubh7N25Vp94GWZRDaIUEDS+04oIFbe/vSGn0eWuLT8r3e2nuyPdG+bh2hNcat/f/UAFpnKdTuIFp73d62ovk7AKQzMrdAFtEAQj8A9cNfMzfa/kcDBW3bFKK3hQYQ6YezBi3aDkkHCmkP1xtuuMEEQUOGDDGnNPXUpg4uCmWp9Pc1ONDgRz9EQ63AtA9ttANyNCDQTNLdd99tggKtE9RtaTY41rTlk2ZttU2StrfSbejpWT1WrQVGzYX6kGoJgz6OBl/a3kkH17Ws9dWSB+03qvfTMgg9TjrA6YsvvjCvgR7Tlr/T/HhoCyitizz44IPN66Hb1pZY2vZMa1VDgZjuiz4PbTWl/Wa1djnUU7b589H73H///abMQ+tdtR5TBytqkKO1wSEaLOuAKP2yogGztgLTrHprmXhtw6aDpHSwlLZV02Oo29daX83663WlNbZ6ml73W/vhLl261Oy/7lPLmu7m9DH1fuedd54sXrzYBPN6yj8U8IVojbCeatfAXJ+3Zif1PaQDqnT/9Hi++uqrbW5HH/+Pf/yjXHXVVaYdnA7q0tdKn4MOlNR61Wh05HXrSAmPHte//vWvppRF/x9r3awu+vrp677//vubY6XZXG3Ppl+qdADfZ599FvXfASCtJbtdA4DohNoMLVy4sNXbjzzyyJ22AtM2XocccohpT6QtsQYNGmTdfvvtpgVU89ZYl19+udW9e3fTSqv5nwltbTRt2jSrd+/elsvlMu2F7rnnnoj2SKH2TNpSrLS01CosLLROPfVUa9myZeaxmrfmCrXx0vZGLf3www/WaaedZvZV2yadccYZ1rp169psJ9byMfR5a+utnR0n3fc77rjDHCu3221aL7322mvm91u2zmqN3++3brnlFtMCS4/pUUcdZX355Zc7HPvQ8Zs+fbppXaUtxMrKykybpnvvvTfiNWiLtrrS9lZ6PHJzc60BAwaYFmuLFi2KuN/f//53a/Dgweb57LPPPtZLL73U6vN56qmnzGuo99P3gr7HQsezufr6emvq1KlWt27dzDE96aSTrDVr1rTakmrjxo3mte/bt695j5SXl5sWVU888UT4Po8//rh1xBFHmMfTbevzuPrqq62qqqqdHoNVq1ZZJ598spWfn2+O3xVXXGHNmTMnohVYyKeffmqNHz8+vB19/meeeab17rvv7nQ72jbshhtuMK3DQs9D2959++23UbcC68jr1tb7tbXX4+OPPzbtwfQ91HIfdP/OO+88s7+633369LFOPPFE629/+1uH/g4A6cym/yQ7wAaQ+XRE/kEHHWQGcOmkAQAAxAM1twBiTmeSaknLFPR0cWhmMAAA4oGaWwAxp7WyWhOpNbra7khrUHXRZvt9+/ZN9u4BADIYZQkAYk5H52sbLx2hr4OYdIIFHVSjg9F2tTE+AADtIbgFAABAxqDmFgAAABmD4BYAAAAZg+K34JzcOuuNNg+PpsE8AAAAEksraXUK+N69e5vuO20huBUxgS0juAEAAFLfmjVrZLfddmvzdoJbkfB0j3qwdLpEAAAApJbq6mqTjGxvmm5FcNtsrnsNbAluAQAAUtfOSkgZUAYAAICMQXALAACAjEFwCwAAgIxBcAsAAICMQXALAACAjEFwCwAAgIxBcAsAAICMQXALAACAjEFwCwAAgIxBcAsAAICMQXALAACAjEFwCwAAgIxBcAsAAICMQXALAACAjOFM9g4ASE2rV6+WzZs3J2x7ZWVlUlFRkbDtAQAyE8EtgFYD28GDB0tdXV3Ctpmfny9Lly4lwAUA7BKCW6CTMjmzqc9LA9tfP/KU9NtzYNy3t2rFMrltyiSzXYJbAMCuILgFOiFbMpsa2A484MCEbQ8AgF1FcAukUWbzo48+MkF1vGkQDQBAOiK4BdIgs7ll0wYRm03OPfdcSaSampqEbg8AgF1FcAukgZqqKhHLkim/vU+GDB8R9+3Nn/uWPHXXrdLQ0BD3bQEAEEsEt0Aa6dN/QEIyxauWL4v7NgAAiAcmcQAAAEDGILgFAABAxqAsAchwvoBlFr8lEhCRHLsuNrHZbMneNQAAYo7gFsgAlmVJg9+SOp8l9b6A1Pv1sum6z2r9d9x2m5Tm2qV7nlMKnQS7AIDMQHALpGEgq8FrjTcgtd6A1HgtqfUFTGa2vfojh11Ew1dvQETv6glYsr7Ob5Z8p00GFLmkKMeRyKcCAEDMEdwCacCWkysjz5oksttA+femhlazsRrA5jltkue0N106gtcdNnHYbRHBsQa4Ghz/2OCXrQ1+k/H9Ymuj9C1wSt9C/iwAANIXn2JAitI62Y31ftnc4JP84cfKycOPbVpvNQWyBS67FLpsUuDUy6aA1h5FaYGWH2iCttThkNJch9nOd9VeE+iuqfVJZWNAxEEGFwCQnghus8Tq1avNlLGJUlZWJhUVFQnbXibx+AOyttZnAtuA9VO29ftP50v/Pr1k/8F7m2A2mkA2Gk67TfYuyZGu9T75ttor270Bce89TOwEuACANERwmyWB7eDBg6Wuri5h28zPz5elS5cS4HZAwLLkh1qf/FDjMzWxSmthy/Oc8uW7r8kTF58rM/48W4pyBsdl+zqwLNdply+3eMRZ2lNOvPqOuGwHAIB4IrjNApqx1cD21488Jf32HBj37a1asUxumzLJbJfgNjpVjX75tsprBoqpIpdddit0SkmO3ZQRfOH1JGQ/urjsJou7dJtHRp55ociGlQnZLgAAsUJwm0U0sE3E1K2InpYbrKvzy/fbveZnl12kfxeXlOU6ktaaq1uuQxq//0rc/fcT6dlP6nwByXcy3wsAID3wiQUksQxhRbU3HNh2z3XIwWW5pjwg2T1nfeu+k/989JaIzS4rq70mCAcAIB0Q3AJJ4Lcs+Xpbo2yq95ufNVu7V7HLDO5KFa/de6OIFTDdE7Z5dG4zAABSX1KD2w8//FBOOukk6d27t8lUzZ49e4f76KCkk08+WYqLi6WgoECGDx9uBkiFNDQ0yGWXXSbdunWTwsJCOf3002Xjxo0JfiZAxzK2/9nWKFWNAXHYRPbpmiO9C5KfrW1py5rvRLasM9dXbvea/QYAINUlNbitra2VIUOGyKOPPtrq7d9++62MGjVKBg0aJO+//758/vnncuONN0pubm74PtOmTZNXX31VXnzxRfnggw9k3bp1Mn78+AQ+C6CDgW1lo8mG2oOBbVd3Crfc2vyDqQPWqX3X1fqSvTcAAKT2gLJx48aZpS033HCDHH/88XL33XeH1w0YMCB8vaqqSp566il57rnn5JhjjjHrZs2aZdpezZ8/Xw499NA4PwMgelq3uqLKa07x67dKDWxTfrrbgF927+KS5VVeWVfnMxnmWPXXBQAgq2puA4GAvP7667L33nvL2LFjpUePHjJixIiI0oXFixeL1+uVMWPGhNdpllfbT82bN6/Nx/Z4PFJdXR2xAPG2ts5nZgFTg7rmSHGqB7ZBOtAtx24zU/ZuDu4/AACpKmWD202bNklNTY3ceeedctxxx8lbb70lp512mik50PIDtWHDBsnJyZGSkpKI3+3Zs6e5rS0zZswwNbyhpW/fvnF/Pshu2zx+WbW96bT+Hl1cqV2K0ILWAvfKb9rf9XWUJgAAUltKZ27VKaecYupqDzzwQLnuuuvkxBNPlJkzZ+7SY0+fPt2UNISWNWvWxGivgR3V+wKyrLLRXO+Z55DyYKCYTnrmO0WLEWq8lmxvpHMCACB1pWxwW1ZWJk6nU/bZZ5+I9VpPG+qWUF5eLo2NjVJZWRlxH+2WoLe1xe12S1FRUcQCxGsA2TeVjaITj+nsX3sUuVKuK0I0XHabKU9QZG8BAKksZYNbLTfQtl/Lli2LWP/NN99Iv379zPWhQ4eKy+WSd999N3y73l+D35EjRyZ8n4GW1tT4pMZnidMmMrDEldaDscoLmsafat1tY3CaYAAAUk1SuyVoTe2KFSvCP69cuVKWLFkipaWlZlDY1VdfLWeddZYcccQRcvTRR8ucOXNM2y9tC6a0XnbSpEly1VVXmd/RDOzll19uAls6JSDZqhr98kOwfdaA4hxxO1L2u2RUNPPcxWWT7V5LNtb7pG+hK9m7BABAagW3ixYtMkFriAapauLEifLMM8+YAWRaX6sDwKZOnSoDBw6Uv//976b3bcgDDzwgdrvdTN6gXRC0s8Lvf//7pDwfIMQXsGR5ZdO0uj3yHFIWPKWf7nrmOWW712uytwS3AIBUlNTg9qijjtrpnPUXXnihWdqiEzroJBBtTQQBJMOq7V7xBCzJddjM1LqZoluuQ76t9kqdzzID5fKc6Z2NBgBkHj6ZgBirbvTLhvqmfrB7FrnEqVORZQh9LsU5TX82ttDzFgCQgghugRh3R9BZyELlCMVp1M82Wpq9VUzoAABIRQS3QAzpALJ6vyUuu5hpazNRKLit9VnS4KPnLQAgtRDcAjFS5wvIDzVN3RG0zlZ7w2YifV5FodIED9lbAEBqIbgFYkAHRn5b5RUdHtnVbc+Y7ghtKQuWW2xpIHMLAEgtBLdADGys90u1NyCarB2QprOQdURpMHjf7g2IhwkdAAAphOAW2EUa3H2/vWkQWb9CV9pP1hANt8NmJnVQWylNAACkkMz/FAbibGV1o2jystBlk175mV2O0JyWX6gqglsAQAohuAV2gSenULZ4mupO9yzKyfhyhOZKcpoC+arGwE4nYwEAIFEIboFOyskvkNouPcz1PgVOKQieps8Wmql22ER8VlNbMAAAUkF2fRoDMXTspddLwOEyU+z2LUzqTNZJoVnqUEuwqkZKEwAAqSH7PpGRMEuXLk3o9srKyqSioiIh26qSHBl59i/Nde2O4MiicoTminMcss0TkEpPQPoUJHtvAAAguEUcbNm0QdN6cu655yZ0u/n5+SagjneA67cs+UpKxW63i7u+SkrKyyVblQQzt9oGTacetmdpkA8ASB0Et4i5mqoqndVApvz2PhkyfERCtrlqxTK5bcok2bx5c9yD24Wb6qXGliO127ZIqW+biGRvcJvvtIkzWHdb4w1IUXCQGQAAyUJwi7jp03+ADDzgQMkk2zx++ef6OnP99ftvkksvnyrZTOtui90O2dLgl8pGglsAQPIxoAyIkra7enNNjclSlloN8unrLyR7l1KqNKEq2BINAIBkIrgFovTlVo+ZiUxPw+8jW5O9OymjOBjc6lS8Wo8MAEAyEdwCUdBWV++srTXXDy/Pl3zxJXuXUoa2Qsux20TD2u2NZG8BAMlFcAtEUY7w+qoa8fgt6Z3vlBE985K9Synb71aztwAAJBPBLbAT/95UL6trvKITkJ20exfaXbWiS3B2NoJbAECyEdwC7dhY55MPg90RRvcplK5uugG0NRWv0nZgmukGACBZCG6BNtT7AvLSymrxWyJ7FufIkG7uZO9Syip02UXDW03cavkGAADJQnALtEJn23rl++1S1Rgw3QBOqCg0taVonZZqFASzt5QmAACSieAWaMVH6+tkZbDt1/j+RZLn5L/KzlB3CwBIBXxiAy18saVB5m2sN9ePr+giPfOZyC/a0gRV46UsAQCQPAS3QDP/qfTI/62uMddH9MiTfUqps+1o5lYHlWlZBwAAyUBwCwR9V91o6mw1LDugm1uO6p2f7F1Ku8kctIxDj1+tzlEMAEASENwiYXwBy3Qg0NH0ej2VWkYt3eaRl76rloAlMqgkR47rywCyjtLjFc7eMlMZACBJKCZEXG1p8Mumep/J5LVsEWW3iRQ67aZWU2e4Ksmxi0NXJpAG2B9vrDcDyNRexTlyUj8mauiswhy7bGsMmEFlvZK9MwCArERwi7gYOOpnIv2HyH8qGyPWO2xi+sYqzZJWewNmWVfXdBqh2G2XUrfDLDl65ziq8wbkrR9qwvs4vHuuHN2ngMB2F9AxAQCQbAS3iHkmNKf/fnL+Q8+ZnzUR2yvfKV3ddsl32sVlt5n7aGDb4LfM4CNdNNunmd1tnoBZvhWvmfUqFOjmO20xKxPQ7X+51SPvra2Ver9lJh84tm+BHFSWF5PHz2ahjgn62noDlnm9AQBIJIJbxIwGjSuqveLqvUfTii1rZdjgATsEOBqkalK2wK6N/+3SM/i7dT5Ltnr8ZtF2Uk2LT1bX+MRtt0nX3Kasrk6q0Jnsqtb5ajeERZsaZEO9z6zrnuuQcRWF0rvAFZuDkOX0tXY7bOaLSq03ICVMVwwAyKYBZR9++KGcdNJJ0rt3bxPwzJ49u837XnzxxeY+Dz74YMT6rVu3yoQJE6SoqEhKSkpk0qRJUlPT1MoJiaPB6bIqr2yq95vrL9x4qcjG76PO3Olrq4Fu30KXDOmWa0oEBhS5TMZX36SegCUb6vzy9bZGWbCxQb7Y4pHvt3tlc4PfBFFN+ddI/oAllR6/6Vv7f6u2y++/2iqvraoxga2O6tduCOcPKiGwjbECPbha9kHHBABAtmVua2trZciQIXLhhRfK+PHj27zfyy+/LPPnzzdBcEsa2K5fv17efvtt8Xq9csEFF8hFF10kzz3XdFocifFDrc8MHtOwpuE/i+TT11+UM8+Z0OnH03rb8nynWfyWJVWegMnobvP4RQfih2p1w3rsLTd/8K28LwWy4KutJnOop8Zbqwk9uCxXhpTlmjIJxF6B0y5bPQHzpQMAgKwKbseNG2eW9qxdu1Yuv/xyefPNN+WEE06IuG3p0qUyZ84cWbhwoQwbNsyse/jhh+X444+Xe++9t9VgGLGnQcyamqbT/HsWu2TJ1vUxfXyHzSaluQ6zaFZY62S3NzYFt3W+gDT4LNEkYW6XItGhYY3N2lBp+KoBckWhSyq6uKRfF5d5PMSPZuBVrY/gFgCQeCldcxsIBOQXv/iFXH311bLvvvvucPu8efNMKUIosFVjxowRu90uCxYskNNOO63Vx/V4PGYJqa6ujtMzyHwabC6vajSN+7WEQGtY40nLF3RwmWZdtVY3ZOkXn8sNk8+Vv708W/YcOEhytJ7XaZe8GA5EQ8fLEnSmMrpPAAASKaXPy951113idDpl6tSprd6+YcMG6dGjR8Q6vX9paam5rS0zZsyQ4uLi8NK3b9+Y73s2lSNoD1sdIDagKCdpgaTdCsjm1d9JF/FKnwKXdM9zSr7LTmCbBDqgTN8P+oWnnrpbAECCpWxwu3jxYvnd734nzzzzTMwDlOnTp0tVVVV4WbNmTUwfP1t4/D+VI+xR5DJBDWAGBwbrmSlNAAAkWsoGtx999JFs2rRJKioqTDZWl1WrVsmvfvUr2X333c19ysvLzX2a8/l8poOC3tYWt9ttuis0X9Bx62p9JjtX5Ip/OQLSS4Gr6YtOrZfMLQAgsVK25lZrbbV+trmxY8ea9doRQY0cOVIqKytNlnfo0KFm3XvvvWdqdUeMGJGU/c4W2jN2Q73fXN+t0Mnpf0Ro6kThJ3MLAMiu4Fb70a5YsSL888qVK2XJkiWmZlYztt26dYu4v8vlMhnZgQMHmp8HDx4sxx13nEyePFlmzpxpWoFNmTJFzj77bDolxNn6Op+ZZUwHd5XkpOwJACS5Y4J2s9BBh3z5AQAkSlKjkkWLFslBBx1kFnXVVVeZ6zfddFPUj/Hss8/KoEGDZPTo0aYF2KhRo+SJJ56I415D+85qcKv6FJC1xY70S4/SVrfNOrMBAJDZmdujjjrKZHWi9f333++wTrO8TNiQWDoLmQYtOiVuGbW2aIX2Es5z2ExPYs3euh28TwAAicH5ZHSIfhnRgWSqd4GTHqbY+WQOzFQGAEggglt0SI23aVpbu02kZx7ZOOx8MgftgwwAQKIQ3KJDNjc0ZW1L3Q5xaIQLtIHMLQAgGQhu0aGShM0NTe2/qLVFdO3AxNTd6jS8AAAkAsEtolbtDZiR7zoRWVc3bx20TzvEhSatYxpeAECiEKEgapuDkzZ0y3UwkAw7pS3iQi3B6pnMAQCQIAS3iAolCeiMvGBpQp2fzC0AIDEIbhGVysaA6JllTcQxIxmiFcrc1lGWAABIEKIURKV51pYZyRCtPEdwUBllCQCABCG4RVQlCds8P9XbAtH6qebW6tBshAAAdBbBLXZKTylrq1Jta1tESQI6wO2wmT8yGtbq5B8AAMQbkQp2qrKxKWtb7LLTJQEdoiUsedTdAgASiOAWO1XpaaqXLHZTkoDOd0yg7hYAkAgEt2iXzixVrTM3CF0S0Dl0TAAAJBLRCtqlga2Gti77T0EK0JlpeOvI3AIAEoDgFjvtb6tKcmgBhs4J1dzW++mYAACIP4JbtKsy2AKsxM1bBZ2T67CJhrcBS8Sj/wAAEEdELGiTN2BJbbBOUjO3QGdoh43cZv1uAQCIJ4JbtKkqmLXVWtscByUJ6Lz84PuHulsAQLwR3GKn9bbFdElAjNqB0TEBABBvRC1o03ZvKLilJAGxm4YXAIB4IrhFq3wBK5xl66J9wIBdwEQOAIBEIWpBq2qCWVu3nXpbxKZjgtLvS/rFCQCAeCG4RbslCV2ot0UMOO02MxGIojQBABBPRC5oP7ilJAExkucIlib4KU0AAMQPkQt2oLNIbQ92SiC4RaxnKmsgcwsAiCMiF+ygwW+Z2kgNRQpc1NsiNsITOfgJbgEA8UNwizZLEgpddjO7FBDTsgQ6JgAA4ojgFjugJAFxLUvwW6b0BQCAeCB6wQ7olIB4tgPTqoTgWwwAgJgjekEEf8CSWiZvQBxoiYs7GODSMQEAEC9EL4hQE6yH1KRtKBABYiUv+J6iYwIAICOD2w8//FBOOukk6d27t9hsNpk9e3b4Nq/XK9dee63sv//+UlBQYO5z3nnnybp16yIeY+vWrTJhwgQpKiqSkpISmTRpktTU1CTh2WQG6m0RT3RMAADEW1IjmNraWhkyZIg8+uijO9xWV1cnn3zyidx4443m8qWXXpJly5bJySefHHE/DWy/+uorefvtt+W1114zAfNFF12UwGeRWUIlCQUEt4gDOiYAAOLNKUk0btw4s7SmuLjYBKzNPfLII3LIIYfI6tWrpaKiQpYuXSpz5syRhQsXyrBhw8x9Hn74YTn++OPl3nvvNdne1ng8HrOEVFdXx/R5pbPaZm3A0pG+JzJpO5ncMQEAgIwLbjuqqqrKlC9o+YGaN2+euR4KbNWYMWPEbrfLggUL5LTTTmv1cWbMmCG33HJLwvY7XfgtK3y6uMCZXsHtlk0bRGw2OffccxO6XUpgOtcxod7X1A5M/z8DAJCVwW1DQ4OpwT3nnHNMfa3asGGD9OjRI+J+TqdTSktLzW1tmT59ulx11VURmdu+fftKtqvzNgW2mrRNt8RtTVWVzhssU357nwwZPiLu25s/9y156q5bzfsSHQtuNZzVd5onYIWDXQAAsiq41cFlZ555psn0PPbYY7v8eG632yyIVBusg9Ssbbpm1Pr0HyADDzgw7ttZtXxZ3LeRifR9pQGtniHQjgm5jmTvEQAg09jTJbBdtWqVqcENZW1VeXm5bNq0KeL+Pp/PdFDQ29C5elsGkyGe6JgAAIgnezoEtsuXL5d33nlHunXrFnH7yJEjpbKyUhYvXhxe995770kgEJARI+J/ajpjOyUEgw8gHuiYAADI2LIEHYyzYsWK8M8rV66UJUuWmJrZXr16yc9//nPTBkxbfPn9/nAdrd6ek5MjgwcPluOOO04mT54sM2fONMHwlClT5Oyzz26zUwJapyUf4bIEMrdIQOaWjgkAgIwLbhctWiRHH310+OfQIK+JEyfKb37zG3nllVfMzwceGFlDOXfuXDnqqKPM9WeffdYEtKNHjzZdEk4//XR56KGHEvo8MoEGGgGrKZUfmkUKiAdmKQMAZGxwqwGqZgzb0t5tIZrFfe6552K8Z9lbb5vvsqXtYDKkh1CHBP1CRTswAECscf4ZRk243pa3BOIrJxjc6jsuONszAAAxQyQDg04JSBR7sB2YavAT3QIAYotIBkZoMFkhmVskQDi4pe4WABBjRDKQRr8lwcSt5NMGDAmuuwUAIJYIbhHO2mrA4bAT3CL+aAcGAIgXgltIHZM3IMFygxM5UHMLAIg1gluEZ4rKo94WCULNLQAgXohmEM7cUm+LRAe3+tbz6ewhAADECMFtltMm+nXBzG0+mVskiNZ2h7rOUXcLAIglopksp030Q7FFHplbJKPuNvjlCgCAWCC4zXLheluHzTTXBxKFdmAAgHgguM1y1NsiWQhuAQDxQHCb5UL1tnRKQKLR6xYAEA9ENFmOzC2ShXZgAIB4ILjNYnRKQCoMKPMELLGEL1cAgNggoslidEpAMmkrsNBsz36HM9m7AwDIEAS3WSzUKUFPD9MpAYlms9nCpQkBR06ydwcAkCEIbrMY9bZItlBw63e4kr0rAIAMQXCbxai3RarU3RLcAgBihagmi5G5RbK5Q2UJdoJbAEBsENxmKTolIBVQlgAAiDWimizlpVMCUsBPA8oIbgEAsUFwm6XolIBUKkuw7A7JLSxK9u4AADIAwW2Wqg+mbfOCwQWQDA67zfS7VV379Ev27gAAMkCnO6fX1tbKBx98IKtXr5bGxsaI26ZOnRqLfUMc1QcHk+VSkoAUyN56A5Z07d032bsCAMjW4PbTTz+V448/Xurq6kyQW1paKps3b5b8/Hzp0aMHwW0aqPc3lSXkMZgMSeZ22KXG65fS3hXJ3hUAQAboVGQzbdo0Oemkk2Tbtm2Sl5cn8+fPl1WrVsnQoUPl3nvvjf1eIm6ZW8oSkCqDyihLAAAkLbhdsmSJ/OpXvxK73S4Oh0M8Ho/07dtX7r77brn++utjsmOIn4BlSUOo5pbMLVIluKUsAQAQA52KbFwulwlslZYhaN2tKi4uljVr1sRivxBHocDWbhPJIbZFinRM6EpZAgAgWTW3Bx10kCxcuFD22msvOfLII+Wmm24yNbd/+tOfZL/99ovFfiFBJQk22oAhZTK3FWLJlmTvDgAgzXUqb3fHHXdIr169zPXbb79dunbtKpdccon8+OOP8sQTT8R6HxGnHreUJCCVMrfu/ALx0p0QALCLOvVJMmzYMDn66KPDZQlz5syR6upqWbx4sQwZMiTqx/nwww/NwLTevXubDOLs2bN3mCJWs8IaSOvAtTFjxsjy5csj7rN161aZMGGCFBUVSUlJiUyaNElqamo687Syr8ctbcCQAnQSEbvfa67Xd747IQAARlLTJNpGTIPhRx99tNXbdYDaQw89JDNnzpQFCxZIQUGBjB07VhoaGsL30cD2q6++krfffltee+01EzBfdNFFCXwW6YdOCUg1BLcAgFiJ+pPk4IMPlnfffdeUIGjNbXu1mp988klUjzlu3DiztEaztg8++KD8+te/llNOOcWs++Mf/yg9e/Y0Gd6zzz5bli5darLGWv+r2WT18MMPmx682pJMM8LYEWUJSDWOgFd8Jrh1JHtXAADZEtxqgOl2u831U089VeJt5cqVsmHDBlOKEKLdGEaMGCHz5s0zwa1eailCKLBVen/t5KCZ3tNOO63Vx9bWZbqEaElFttCZoIKJWzK3SBlkbgEAsRL1J8nNN9/c6vV40cBWaaa2Of05dJteas1vc06n08yYFrpPa2bMmCG33HKLZHPWNsduE4f2AgNSgIPgFgAQI506L61lAJoZbUnXLVq0SFLd9OnTpaqqKrxkU2/ecL0tg8mQQsjcAgCSGtxedtllrQaEa9euNbfFQnl5ubncuHFjxHr9OXSbXm7atCnidp/PZzoohO7TGi2v0O4KzZds8dPMZAS3SB0Ovy8c3Gq9PQAACQ1uv/76azPArCUdaKa3xUL//v1NgKqD2JrXxmp2eOTIkeZnvaysrDQtyELee+89CQQCpjYX7QwmczCYDKnDHvCK3+cTy2aTmuB7FACAzujUOUDNfGoGdY899ohYv379elPzGi3tR7tixYqIQWRLliwxNbMVFRVy5ZVXym233WZmQtNg98YbbzQdEEID2gYPHizHHXecTJ482bQL83q9MmXKFDPYjE4JraPHLVKRvhurNq6V0j79pMoTkC4uuiYAADqnU+m7Y489Nly3GqIZ1Ouvv15+9rOfRf04Wp+r2V5d1FVXXWWu68QN6pprrpHLL7/c9K0dPny4CYa19Vdubm74MZ599lkZNGiQjB492rQAGzVqFLOktUHDWnrcIlVtW9dU6lTZ6E/2rgAAsi1zqz1kjzjiCOnXr184MNWMq3Yy+NOf/hT14xx11FHt1tdpL91bb73VLG3RLO9zzz3XwWeQnQJ2pwlwbc2mPAVSxbZ1q81lVSNlCQCABAe3ffr0kc8//9xkTT/77DMzNe4FF1wg55xzjrhcrl3YHcST35FjLnMdtnYn4QCSYdvaVeayykPmFgDQeZ3uu6NT4TLNbXoJOJq+eORSb4sUtG19qCyBzC0AIAnB7fLly2Xu3LmmFZd2J2guVDOL1M3cAqlm69pQWQKZWwBA53UquH3yySflkksukbKyMtOuq/kpbr1OcJua/M6mzC1twJDKNbfVjQEJWJbYKZ0BACQquNX2XLfffrtce+21nfl1JDtzS1kCUtD2HzeIzbJMr9vt3oAU59AODADQcZ1K4W3btk3OOOOMzvwqkkQz6v5QzS1lCUhB2jklT5pmKqtkUBkAIJHBrQa2b731Vme3iSTo0r1cxGY3bcAIbpGqQsEt7cAAAAktS9hzzz3NbGHz58+X/ffff4f2X1OnTu30DiE+uvXtby61vy1twJD6wS2ZWwBAAoNbnQGssLBQPvjgA7M0p4ETwW3q6da3aapkZiZDKsuTpqC20kPmFgCQwOB25cqVndwckp25ZTAZUlkumVsAwC7apZ5QjY2NsmzZMvH5mj6QkLrKKpoyt7m0AUMKo+YWALCrOhXp1NXVyaRJkyQ/P1/23XdfWb26qT/l5ZdfLnfeeecu7xRir1vf3c1lHplbpEFwq63AfAEr2bsDAMiW4Hb69Ony2Wefyfvvvy+5ubnh9WPGjJG//vWvsdw/xIDVvCyBmluksBwJiCv4V0kncwAAICE1t7NnzzZB7KGHHhox8l6zuN9++21nHhJx5BGH5OQVaCNR0y0BSFX67tTJGzY3+E3dbWkuEzkAABKQuf3xxx+lR48eO6yvra2lzVQKqgt+h7EHvExpipRXnNP0Z4m6WwBAwoLbYcOGyeuvvx7+ORTQ/u///q+MHDmyUzuC+KkPBrcOnzfZuwLsVGja3Uo6JgAAElWWcMcdd8i4cePk66+/Np0Sfve735nrH3/88Q59b5E6mVuHvzHZuwJEn7llCl4AQKIyt6NGjZIlS5aYwFZnKNOpeLVMYd68eTJ06NDOPCTiqE6aZpBz+MncIvWVuJsyt5QlAAASlrlVAwYMkCeffLKzv44EInOLdEJZAgAg4cFtqK9tWyoqKjq7P4gxy7J+GlBGcIs0UBIsS6jzWdLotySHDh8AgHgHt7vvvnu7XRH8fjIuqUIDBL/NLgG/Xxx+ZpJD6st12k3LOo/fkupGv5TldfoEEwAgC3XqU+PTTz+N+Nnr9Zp1999/v9x+++2x2jfEwNbgoJzKDT9IDxczPiF9BpVtqtdetwEpy0v23gAAMj64HTJkSKvtwXr37i333HOPjB8/Phb7hhjYFgxut6xZKbJHr2TvDhB13W1TcMtZIABAAroltGXgwIGycOHCWD4kdlFlKLhd/V2ydwXocDuwSjomAAASkbmtrq7eYdDS+vXr5Te/+Y3stddenXlIJCJzK4cne3eADnVMIHMLAEhIcFtSUrLDgDINcPv27SvPP/98Zx4Sca65bQpugfRQ4mYKXgBAAoPb9957LyK4tdvt0r17d9lzzz3F6WRkc6rQLxyVnqbggOAWaZm5ZZYyAEAHdSoSPeqoozrza0iwep8lnoClUa5sXbsq2bsDdLjmtt5viccfELcjpsMDAAAZrFOfGDNmzJCnn356h/W67q677orFfiGGJQm54hdfoyfZuwNETYPZ3ODkDZQmAADiHtw+/vjjMmjQoB3W77vvvjJz5szOPCTiOJgsX5i8AembvWVQGQAg7sHthg0bpFevHXumat2tdk1AatgWDAryxZvsXQF2oWMCmVsAQJyDW+2K8K9//WuH9bpOJ3JAaggNJiNzi3RU4mZQGQAgQcHt5MmT5corr5RZs2bJqlWrzKL1ttOmTTO3xYrf75cbb7xR+vfvL3l5eTJgwAD57W9/a7oAhOj1m266yWSS9T5jxoyR5cuXx2wfMqHmluAW6V2WQOYWABDnbglXX321bNmyRS699FJpbGw063Jzc+Xaa6+V6dOnS6zo4LTHHntM/vCHP5h63kWLFskFF1wgxcXFMnXqVHOfu+++Wx566CFzHw2CNRgeO3asfP3112afspUG/aGa2zyCW6QhJnIAACQsuNUetxp4aiC5dOlSkzHVmcncbrfE0scffyynnHKKnHDCCebn3XffXf7yl7/Iv//973AA9+CDD8qvf/1rcz/1xz/+UXr27CmzZ8+Ws88+W7JVg2mh1JThJnOLdMQUvACAztil5pE6sGzr1q2mXEAD2+blArFw2GGHybvvvivffPON+fmzzz6Tf/7znzJu3Djz88qVK80+aClCiGZ1R4wYIfPmzWvzcT0ej5lCuPmSaUJZ2y4uuzgktq8LkMjMrX5Ja/AR4AIA4pi51ZKEM888U+bOnWuyuFrjuscee8ikSZOka9euct9990ksXHfddSbw1LZjDofD1ODefvvtMmHCBHO7BrZKM7XN6c+h29rq03vLLbdINtTbdtVBOU2VI0BayXHYJN9pkzqfZepuc51M5AAA2LlOfVrowDGXyyWrV6+W/Pz88PqzzjpL5syZI7HywgsvyLPPPivPPfecfPLJJ6au9t577zWXu0LrgquqqsLLmjVrJFMzt13dBARIX9TdAgASkrl966235M0335TddtstYr3W3WrnhFjRgWuavQ3Vzu6///7m8TXzOnHiRCkvLzfrN27cGNF3V38+8MAD23xcLaGIdX1wqtkWbANmMrdAGtfdrq+jYwIAIHqdSuvV1tZGZGxDtP42lkFjXV2d2O2Ru6jlCYFA0weddkfQAFfrckO0jGHBggUycuRIyWY/ZW4JbpH+mdtKMrcAgHgGt//1X/9luhKEaN2tBpzaluvoo4+WWDnppJNMje3rr78u33//vbz88sty//33y2mnnRbervbbve222+SVV16RL774Qs477zwzkcSpp54q2YzgFpmAXrcAgISUJWgQO3r0aNN3VvvcXnPNNfLVV1+ZzG1rM5d11sMPP2zajWk/3U2bNpmg9X/+53/MpA0hum3NJF900UVSWVkpo0aNMnW/2dzjtt4XMK3AVEmOQ35I9g4Bu1pzyyxlAIB4Brf77befac/1yCOPSJcuXaSmpkbGjx8vl112WUTt667Sx9Y+trq0RbO3t956q1kQmbUtdNnNiHMgXZW4f8rcaqtB/f8OAEBMg1uv1yvHHXeczJw5U2644YaO/joSgE4JyBRFwcxtY8AyZyPynAS3AID2dTj60RZgn3/+eUd/DUnocVtKvS3SnMtuk4JgQEvdLQAgGp1K7Z177rny1FNPdeZXkQC0AUMmoWMCACDuNbc+n0+efvppeeedd2To0KFSUFAQcbt2NEDy0CkBmdYxYZ32umVQGQAg1sHtd999J7vvvrt8+eWXcvDBB5t1OrCsOQZ8JB/BLTJJSfB9TFkCACDmwa3OQLZ+/XqZO3dueLrdhx56SHr27NmRh0EC24AB6Y4peAEAcau51VY8zb3xxhumxyxSB23AkGmYyAEA0BG71CuqZbCL5KMNGDI5c8vfHADAznQoAtJ62pY1tdTYphbagCHTFAUzt96Alt0Q3AIAYlhzq1mT888/X9xut/m5oaFBLr744h26Jbz00ksdeVjEEG3AkGmcdpsps6nxBkz2Nt/FWQkAQIyC24kTJ+7Q7xaphU4JyEQlOU3BbWVjQHpFfpcGAKDzwe2sWbM6cnckAcEtMrXu9odaHx0TAAA7xfm9DEIbMGQqOiYAAKJFcJtBaAOGTFUcmsiBWcoAADtBcJtBaAOGTEXmFgAQLaKgDGwDRr0tMk2ozIZetwCAnSG4zcA2YPS4Rabp4rKLFtpom9taet0CANpBcJtB6JSATOWw20yAq+iYAABoD8FtBiG4RSYrDtaSVwXPUAAA0BqC2wxBGzBkQ69bReYWANAegtsMQRswZEvHhEqCWwBAOwhuMwRtwJA9mVvKEgAAbSMSyhC0AUOmC5XbVDKRAwCgHQS3GYI2YMh0JcGzEtWNAQnQ6xYA0AaC2wwrSyghuEWG0npyLScPBANcAABaQ3CbYcEtmVtkKrvNFq67ZVAZAKAtBLcZgDZgyLbSBHrdAgDaQnCbAWgDhqwbVEbmFgDQBoLbDEAbMGSLUE05HRMAAG0hGsoAtAFDtigJT+RAWQIAoHUEtxmANmDItsxt6GwFAAAtEdxmANqAIdum4NUBlA0+srcAgDQMbteuXSvnnnuudOvWTfLy8mT//feXRYsWhW+3LEtuuukm6dWrl7l9zJgxsnz5cskmtAFDtnA77JLvbBo0SWkCACDtgttt27bJ4YcfLi6XS9544w35+uuv5b777pOuXbuG73P33XfLQw89JDNnzpQFCxZIQUGBjB07VhoaGiQb0AYM2YaOCQCA9jglhd11113St29fmTVrVnhd//79I7K2Dz74oPz617+WU045xaz74x//KD179pTZs2fL2WefLZmONmDINlp+s67OJ1XU3QIA0i1z+8orr8iwYcPkjDPOkB49eshBBx0kTz75ZPj2lStXyoYNG0wpQkhxcbGMGDFC5s2b1+bjejweqa6ujljS1ZYGShKQXeiYAABI2+D2u+++k8cee0z22msvefPNN+WSSy6RqVOnyh/+8Adzuwa2SjO1zenPodtaM2PGDBMEhxbNDqd7G7BuuQS3yA70ugUApG1wGwgE5OCDD5Y77rjDZG0vuugimTx5sqmv3RXTp0+Xqqqq8LJmzRpJV2RukW2ouQUApG1wqx0Q9tlnn4h1gwcPltWrV5vr5eXl5nLjxo0R99GfQ7e1xu12S1FRUcSSrsjcItuUBGfiq/IEJGA1DaYEACAtglvtlLBs2bKIdd98843069cvPLhMg9h33303fLvWz2rXhJEjR0qm0w922oAh2+jgSR07qRW31dTdAgDSKbidNm2azJ8/35QlrFixQp577jl54okn5LLLLjO322w2ufLKK+W2224zg8+++OILOe+886R3795y6qmnSqaragyIdgHTtp+h5vZAprPbbFJMaQIAIB1bgQ0fPlxefvllUyN76623mkyttv6aMGFC+D7XXHON1NbWmnrcyspKGTVqlMyZM0dyc3Ml04Xqbbu6HSbQB7KpY4KW5GhpgnRJ9t4AAFJJSge36sQTTzRLWzSo08BXl2yzpcFnLqm3RVZ2TNjulW1kbgEALXAuO42FBpOVEtwiy9AODADQFoLbDChL6MZgMmSZrsGOCaEBlQAAhBDcprGf2oClfHUJEFNaZ662eQJmGm4AAEIIbtNUgy8gdb6mD3XagCFbJ3JoDFjh/wcAACiC2zS1JZi17eKyS442/QSyiNNuk6Jg+ztKEwAAzRHcpimm3UW26xrM3obKcwAAUAS3aYppd5HtQnW3dEwAADRHcJvumVuCW2QpOiYAAFpDcJumttIGDFkulLmlLAEA0BzBbRryW1Z4ZiYyt8hWoXrzStqBAQCaIbhNQ1pjGLBEXHaRIv0HyOJZyjy0AwMANENklIZ+DJUk5DrFZqMNGLK4HVjwyx11twCAEILbNLS5vumDvDslCchyP81URnALAGhCcJuGNjf4zGUZwS2yHMEtAKAlgts0tDlYllCW60z2rgBJRTswAEBLBLdpxh+wwm3AyvLI3CK7/ZS5DSR7VwAAKYLgNs1oT0/9GM9pNpgGkGwPbhv9tAMDABhER2lbkuCgUwKyXii49fgtqacdGACA4DaNB5NRkgBEtgMLTmwCAMhuBLdphsFkQBvT8Ab/bwAAshvBbZr5kR63QATagQEAmiO4TSO+gBX+AKfHLdCkW/D/whaCWwAAwW36dUrQITNuh00K6ZQARAa3lCUAAAhu03faXTolAE1Km5UlBGgHBgBZj+A2jfwYnnaXwWRASHGOXZw2Eb8lUtXIZA4AkO0IbtO0xy2AJnoWo5TSBABAEMFtGqHHLdC6bsHShC3B/yMAgOxFcJsmGv3aKaHplGt3yhKACKHMrQ66BABkN4LbNLGpvikjpV0SCuiUAEToFvzCR1kCAIAoKU1sDAa3PSlJANouSyBzCwBZj+A2zTK3PfMoSQDamqWs3mdJnY+OCQCQzQhu08TGuqaMVI98glugpRyHTYqC5TpbKU0AgKyWVsHtnXfeadr+XHnlleF1DQ0Nctlll0m3bt2ksLBQTj/9dNm4caNkEr9lhXvckrkFWsc0vACAtApuFy5cKI8//rgccMABEeunTZsmr776qrz44ovywQcfyLp162T8+PGSSTQTpQ3qc+w2KclJm5cMSCh63QIAVFpESjU1NTJhwgR58sknpWvXruH1VVVV8tRTT8n9998vxxxzjAwdOlRmzZolH3/8scyfP18ybTBZjzym3QXaQq9bAEDaBLdadnDCCSfImDFjItYvXrxYvF5vxPpBgwZJRUWFzJs3r83H83g8Ul1dHbGkso11wZIE6m2BnZYl0OsWALJbykdLzz//vHzyySemLKGlDRs2SE5OjpSUlESs79mzp7mtLTNmzJBbbrlF0sXG+qYPa+ptgZ33uq30BMQXsMRp5ywHAGSjlM7crlmzRq644gp59tlnJTc3N2aPO336dFPSEFp0O6nKsqxwG7AeBLdAmwqcNnHbbWKZAJfsLQBkq5QObrXsYNOmTXLwwQeL0+k0iw4ae+ihh8x1zdA2NjZKZWVlxO9pt4Ty8vI2H9ftdktRUVHEkqqqvQFp8FuiSajuwdOuAHak9eih0oTNDCoDgKyV0sHt6NGj5YsvvpAlS5aEl2HDhpnBZaHrLpdL3n333fDvLFu2TFavXi0jR46UTBCqty3LdYiD06xAu8qCM/htYlAZAGStlD7P3aVLF9lvv/0i1hUUFJietqH1kyZNkquuukpKS0tNBvbyyy83ge2hhx4qmTXtbkq/VEBK6G7qbj2yOVinDgDIPmkfMT3wwANit9vN5A3aBWHs2LHy+9//XjLFpuCHNPW2wM51D2ZuQ5OeAACyT9pFTO+//37EzzrQ7NFHHzVLptHBZOtrmz6ky2kDBkSZuRXZ5glIo98y0/ICALJLStfcZrvt3oDU+ALmRSK4BXauwGWXfGdTQLvFQ/YWALIRwW0KWxfM2uqpVheDyYAOZW9/pO4WALISwW0KWxfslNC7wJXsXQHSr+42OBgTAJBdCG5T2Lpar7nsTUkCELXuwcGXP9LrFgCyEsFtivJblmwIZ24JboFohSY7IXMLANmJ4DZFab2gzxLJddik1M3MZEC0yoI1t7U+S+p8gWTvDgAgwQhuU7wkoVe+00wrCiA62v6rJKfpTxvZWwDIPgS3KWptsFMCJQlAx1F3CwDZi+A2Ra0P1dvm0ykB6CjqbgEgexHcpqB6X0C2epoyTmRugV3I3NLrFgCyDsFtCmdtu7rtkufkJQI6m7nd3OA301gDALIHkVMKWhvub0tJAtAZXXMd4rCJNAYsqWqkYwIAZBOC2xS0pqYpc9uHkgSgUxw2W7g0IdQvGgCQHYieUowvYIUztxVdyNwiuyxdujRmj+WUriK2LrJk5VqpW1m5w+1lZWVSUVERs+0BAFIDwW2KWVfrE78lUuC0STcmb0CW2LJpg4jNJueee27MHnPYqefK6Tc9IO/8+1M555Kf73B7fn6+CaYJcAEgsxDcpphVNY3msqLQxeQNyBo1VVUiliVTfnufDBk+IiaP6XO6RfO1ew0fJU/M+ac0/9+0asUyuW3KJNm8eTPBLQBkGILbFLO6pqkkoV+XnGTvCpBwffoPkIEHHBiTxwpYlszf2CCW3SH99jmAziMAkCX4a59CvAHLlCWEMrcAOs9us5nyHlXrpWMCAGQLgtsUogPJtN620GU3PW4B7Br9v6RqfPS6BYBsQQSVQlZvD5YkUG8LxERBKLglcwsAWYPgNgXrbWkBBsQ4c+sNMFMZAGQJgtsU0ei3ZF2w2bxmbgHsunynzXRJ0HKfBv0HAJDxCG5TqN42YIkUuexSnMPLAsRsUJmLQWUAkE2IolLEyu0/lSRQbwvETmGwBRiDygAgOxDcpogVVU2TN+xZRH9bIJYYVAYA2YXgNgVsbfDLVo9f7DaR/kXU2wKxxKAyAMguBLcpYHmVJzxxg9vBSwLEkk7koF8cdTxZHaUJAJDxiKRSwLfVTfW2lCQAsac17DpQU1U3UpoAAJmO4DbJGnwBWRPsb7tnMcEtEA9FwQ4k1dTdAkDGI7hNsu+qvaInSstyHVLidiR7d4CM1CWcufVTdwsAGY7gNslWVNMlAYi3Ljl2M5mDViV4mMwBADIawW0S+S1Lvg0Ft5QkAHHjaDaZA6UJAJDZUj64nTFjhgwfPly6dOkiPXr0kFNPPVWWLVsWcZ+Ghga57LLLpFu3blJYWCinn366bNy4UVKd1tpqFinPYZPeBc5k7w6Q0YpcTWU/DCoDgMyW8sHtBx98YALX+fPny9tvvy1er1eOPfZYqa2tDd9n2rRp8uqrr8qLL75o7r9u3ToZP368pLqvtza1ANu7JMdMEwogAYPKCG4BIKOlfLpwzpw5ET8/88wzJoO7ePFiOeKII6Sqqkqeeuopee655+SYY44x95k1a5YMHjzYBMSHHnqopCJfwJJllU0lCfuW5iZ7d4CsCW7r9WyJjcGbAJCpUj5z25IGs6q0tNRcapCr2dwxY8aE7zNo0CCpqKiQefPmtfoYHo9HqqurI5ZkTLfrCVim/2ZfShKAuHPZbaYESHldfKEEgEyVVsFtIBCQK6+8Ug4//HDZb7/9zLoNGzZITk6OlJSURNy3Z8+e5ra26niLi4vDS9++fSXRvtrWVJKwT6nbNJkHkLjsrc+Vn+xdAQDESVoFt1p7++WXX8rzzz+/S48zffp0kwEOLWvWrJFEqvcFwl0S9u3qTui2gWwWCm69OXnJ3hUAQJykzfnwKVOmyGuvvSYffvih7LbbbuH15eXl0tjYKJWVlRHZW+2WoLe1xu12myVZ/lPpkYAl0iPPId3z0uYlANJeSY7W2nrF58qTgq5lyd4dAEA2Zm51NiENbF9++WV57733pH///hG3Dx06VFwul7z77rvhddoqbPXq1TJy5EhJRV8FuySQtQUSK8dhkwJnUxnQXiOPSvbuAADiwJkOpQjaCeEf//iH6XUbqqPVWtm8vDxzOWnSJLnqqqvMILOioiK5/PLLTWCbip0SKj1++aHWZ67vQ3ALJFxXt0NqfT4ZeNjoZO8KACAbg9vHHnvMXB51VGSWRdt9nX/++eb6Aw88IHa73UzeoJ0Qxo4dK7///e8lFTntNhnZM0+2ewPSxZwiBZBIJW67/FCrmdujxZKf+mUDADKDMx3KEnYmNzdXHn30UbOkukKXXY7sXZDs3QCylrbfswX8UtC1m1RZ3mTvDgAg22puASCWtPWeq7HOXN8sdE0AgExDcAsg6+Q01pjLzcJkDgCQaQhuAWQdV2NTrW215EidN5Ds3QEAxBDBLYCs4wj4Zd2yL7VGQVZub5pQBQCQGQhuAWSlb/7V1Bt7eRXBLQBkEoJbAFnpi3deMZcrqhrF46c0AQAyBcEtgKy07j+fS77lFZ9F9hYAMgnBLYCs1Ss4icPXwSmxAQDpj+AWQNbqJU39bldu90otXRMAICOk/AxlmWr16tWyefPmhGxr6dKlCdkOkG7yxSe98p2yvs4n/6n0yNDuTOoAAOmO4DZJge3gwYOlrq4pa5QoNTVNjesB/GSfrm4T3H69jeAWADIBwW0SaMZWA9tfP/KU9NtzYNy3N3/uW/LUXbdKQ0ND3LcFpJvBXd3y3tpaWVvrk0qPX0rcjmTvEgBgFxDcJpEGtgMPODDu21m1fFnctwGkq0KXXfp1ccn3273y+ZYGOaJ3QbJ3CQCwCxhQBiDrHVSWay4/2dwg3oCV7N0BAOwCglsAWW+v4hwpzrFLg9+SL7dSvgMA6YzgFkDWs9tsMjw4mGzhpgaxLLK3AJCuCG4BQEQO6JYrbodNtnr8sqKaGcsAIF0R3AKAiOQ4bHJgt9xw9hYAkJ4IbgEgaGj3XPNHcXWNV9bWepO9OwCATiC4BYCgohyH7NfNba6/80MttbcAkIbocwsAzRzRq0D+s63RzFr25VaP7B8sVQCAdJgBdfPmzQndZllZmVRUVEgqIbgFgBaTOhxenidz19XJ++tqZe+SHHE7OMkFIPUD28GDB5sZUBMpPz9fli5dmlIBLsEtALQwrHueLNnSINs8AZm3oV6O6sOsZcgOic78pWLWL13p66aB7a8fecrMgJoIq1Ysk9umTDLbTqXXkeAWAFpw2G0yuk+h/O27avn3j/Ume9u7wJXs3QIyLvOXilm/dNdvz4Ey8IADJZsR3AJAKwYUuWRgSY4sq2yU2Su3y/mDSiTfSXkCMleiM3+pmvVDdHTAbcBmF3dhF0k1BLcA0AqbzSbjKgplU32lKU949fvtcsaAIjObGZDJyPwhxBuwpMYbMEu9zzJTlDf4A+ILiJheMt33khN/dZukGoJbAGhDrsMu4/sXyR+/qZSV273y0fo6ObI39bfIXv6AJXUa4PgC0hiwpNEv4rMs0a55GuzoVz8df+mw2STHbpNch01ynU2XfDFMfX7LkqrGgFR6/FLpCUi9f+ftEF25TVOXpxKCWwBoR/c8pxzXt1BeXVUj8zbWmw/v/+qVbzK7QKafdq7xWrLdG5DqYPbOE0Ww0xr935LvtJluJEU5dinOccR8f9H5LyzbGgOyucEv2zx+CbR4ifWLSReX3bx+uU67+dllF/Nl5dsvP5fnp18kVx+7WFIJwS0A7MS+pbnmA/79dXXy8cZ68QQsGdOngAAXGadLWU9pyC2S/1Q2SpXHL75WYlkNbPIcdjNltWZntRTdbtMA1iaWWOIPNGVzG80p7KZFY+JanyW1Pr9srPfrCW9xlO4uJ197p2yUPKn3BSSPmvaEBrRbPX7ZYgLagASa3aavaVe3XUrcDinOsYtLX9w26CueighuASAKh/bMN3/03/qhVhb/2CDbGwMmo5uvn/RAGgc5P9R65btqr3wl5XL9W19KjYjUNGgAquUFOnOf3WTudClwtR/stJUB1oxvjc8y/2+qGv0m0PU73TLyrEnymYh8/sVW6V3glD2KcmSPIpeU5zn58hhjPs3QevwmQ1vZIqB1O2xSluuQbrkOKXTa0v7YE9wCQJQO7p5nslX/t6pGvqlqlB9qt8mxfQtlUEnTlL1AOtB6yu+qG01Au6qmUbyhKMeWI4FAQHL8HulV0kVK3E0B7a4GOvr7pu7WKSaAEnGZgUpLv/lW3pzzhvzsrIlSa3PJ2lqfWT5a31TC0L9LU6DbvyiHTiWd5PFbsrXBb7K0WkvbPM+a2yygLciAgLY5glsA6ID9SnOlLNcpr6/aLj82+E2bsIrCBjm0Z5707+LKqA8IpD/NmlY2BmR1jVfW1HjNZXVj85ydmMBGA0jblrVy5pjD5XfPvyIVfePbLUGzv+7GGnn17unym7OOlT33HWKCbQ26v9/ulTqfJV9t85hF9c53SkWhS3YrdEmfAiclDG1w5eZLoytfVm33mi8xmi1vLs9pk25uhwlq9QtEpv69ypjg9tFHH5V77rlHNmzYIEOGDJGHH35YDjnkkGTvFoAMVJ7vlIkDS+TjDXUyf2O9CRh06ZHnkH27umXvErd0dTNgBokPZPV0/6Z6n1k21vnkh1qfqRdvTsPCPoVO2cNkRnPM+1aDnE+21Eld5dak7HtRjkMOLNMl15RKaAZXA91vqxvNl8h1dT6zyKZ6c38NzjTI7VPgku55DunmdpqzKtn2eutAP32t19T4ZJn0lJs/WCHVLpdU1/rC99Pse7dcu5S6HVnzpSAjgtu//vWvctVVV8nMmTNlxIgR8uCDD8rYsWNl2bJl0qNHj2TvHoAM5LTb5IjeBTKkLFcWbqqXz7Y0yKZ6v2yqr5O56+pMdkRrCHvlO6VHntMEu5mcKUHiWjVp3arpYNDoN1lYva4DgzY1+Ewv0pa0RFYzn30LXWbRoNCt/bpSeIbAii4us+jU19sb/aYVn9YG/1DjM6fYtW5Ul8+2NGV2ldYGa9CrZ1Z0QJR2ZggtBU57WrYi0/KNWm9Aan1N3Sq2Bp/3FjMYzPdTSYmyucXhErH7vdKtINcMBtO/O9kW9GdMcHv//ffL5MmT5YILLjA/a5D7+uuvy9NPPy3XXXddsncPQAbTlkZjdiuUw8vz5ettHvmmstFkcc2Hj8cvX2z96cNXx57ph2yonY4umknRwRz6+aO9QTUQsQcvHaHrwQClOR2Z3uyH1q62uH872rsxisHQ0Y6XtqJYqaPtO/1YLe8T5Y7t0v5HcafWfk+fpzbC12BVOwlotlIvtcuAtmLSwT+eYKcBjz8Q7jqws1Zc+lJqhk6zsdrGrncwu9nRQWCppEuOQw7opkuu+bnOGzCBrmZ319f5ZHODz5QxaKCvi5Y3tNWKTP+/6cBQ/T+nQZ/bbhOX+f/X9H+w6f9d6PpPl63FxdEcUX21AsHXtGlpuu4PXtdLDWCbegY3XerP+iVFA9qdvd76t6E0mMX2b14rvzjxZ3LPrOdl7z7ZPQlH2ge3jY2NsnjxYpk+fXp4nd1ulzFjxsi8efNa/R2Px2OWkKqqKnNZXV2dgD0WqanRsagi33yxROpra+O+vVXffmMuVy79Sgry8jJue8nYJttL7+2t+W65udS/HaH/j7HSR0R6il22iVu2i0uqJUfqxCUN4pAGm022x3RryEY2y5Jc8Ylb/JIrfnGLT/LFL4XSKPniE8f2poBIT0yvDi7R0LOdifxs2tX/h1r4s1tw8YpdasUVXJzm/5tHHNIYXCybTZoKGtKP3bIkR/xm0dc3X7xSID4pEK95H9j1j8qPTa9f5fofEvb6NX8N9fVLRAwV2oaWZLTLSnNr167VZ2h9/PHHEeuvvvpq65BDDmn1d26++WbzOywsLCwsLCwsLJJWy5o1a9qNDdM+c9sZmuXVGt0QbX2ydetW6datW9rWw+m3mb59+8qaNWukqKgo2buT1jiWscXxjB2OZWxxPGOHYxlbHM/WacZ2+/bt0rt3b2lP2ge3ZWVl4nA4ZOPGjRHr9efy8vJWf8ftdpuluZKSEskE+p+A/wixwbGMLY5n7HAsY4vjGTscy9jieO6ouLhYdiZ1h0tGKScnR4YOHSrvvvtuRCZWfx45cmRS9w0AAACJlfaZW6UlBhMnTpRhw4aZ3rbaCqy2tjbcPQEAAADZISOC27POOkt+/PFHuemmm8wkDgceeKDMmTNHevbsKdlCyyxuvvnmHcot0HEcy9jieMYOxzK2OJ6xw7GMLY7nrrHpqLJdfAwAAAAgJaR9zS0AAAAQQnALAACAjEFwCwAAgIxBcAsAAICMQXCbRmbMmCHDhw+XLl26SI8ePeTUU08NzwUe0tDQIJdddpmZba2wsFBOP/30HSa4wI7uvPNOMzvdlVdeGV7HseyYtWvXyrnnnmuOV15enuy///6yaNGi8O06dlU7mvTq1cvcPmbMGFm+vGleckTy+/1y4403Sv/+/c2xGjBggPz2t7+NmE+d49m6Dz/8UE466SQzg5H+n549e3bE7dEcN52xcsKECaZ5vk7wM2nSJKmpqZFs1N7x9Hq9cu2115r/6wUFBeY+5513nqxbty7iMTie0b03m7v44ovNfbS1aXMcy+gQ3KaRDz74wARb8+fPl7ffftv8YTn22GNNT9+QadOmyauvviovvviiub/+kRk/fnxS9zvVLVy4UB5//HE54IADItZzLKO3bds2Ofzww8Xlcskbb7whX3/9tdx3333StWvX8H3uvvtueeihh2TmzJmyYMEC82E4duxY8yUCke666y557LHH5JFHHpGlS5ean/X4Pfzww+H7cDxbp38PhwwZIo8++mirt0dz3DR4+Oqrr8zf2ddee80EJRdddJFko/aOZ11dnXzyySfmi5hevvTSSybhcvLJJ0fcj+MZ3Xsz5OWXXzaf861NMcuxjJK2AkN62rRpk6ZxrA8++MD8XFlZablcLuvFF18M32fp0qXmPvPmzUvinqau7du3W3vttZf19ttvW0ceeaR1xRVXmPUcy4659tprrVGjRrV5eyAQsMrLy6177rknvE6Psdvttv7yl78kaC/TxwknnGBdeOGFEevGjx9vTZgwwVzneEZH/7++/PLL4Z+jOW5ff/21+b2FCxeG7/PGG29YNpvNWrt2rZXNWh7P1vz73/8291u1apX5mePZsWP5ww8/WH369LG+/PJLq1+/ftYDDzwQvo1jGT0yt2msqqrKXJaWlprLxYsXm2yunmYLGTRokFRUVMi8efOStp+pTDPhJ5xwQsQxUxzLjnnllVfMDIFnnHGGKZk56KCD5MknnwzfvnLlSjPBSvPjqfODjxgxguPZisMOO8xMIf7NN9+Ynz/77DP55z//KePGjTM/czw7J5rjppd6ulffzyF6f7vdbjK92Pnnkp5O12OoOJ7RCwQC8otf/EKuvvpq2XfffXe4nWOZZTOUZet/Aq0P1VPB++23n1mnf7RzcnLCf1RCdKY2vQ2Rnn/+eXMqTcsSWuJYdsx3331nTqPrVNjXX3+9OaZTp041x1Cnxg4ds5azBnI8W3fddddJdXW1+ULlcDhMDe7tt99uTkkqjmfnRHPc9FK/oDXndDpNEoFj2z4t7dAa3HPOOcfUhCqOZ/S0/EiPjf7tbA3HMnoEt2mccfzyyy9NNgcdt2bNGrniiitM3VJubm6ydycjvmxpNuGOO+4wP2vmVt+fWteowS065oUXXpBnn31WnnvuOZPBWbJkifkyqzV4HE+kIj3TdeaZZ5oBe/pFFx2jZwt/97vfmYSLZr6xayhLSENTpkwxheRz586V3XbbLby+vLxcGhsbpbKyMuL+OsJfb0PkH5JNmzbJwQcfbL756qKDxnSgiV7XTA7HMno68nyfffaJWDd48GBZvXq1uR46Zi27TXA8W6enJTV7e/bZZ5uR6HqqUgc4ascUxfHsnGiOm17q34bmfD6fGaXOsW0/sF21apVJGISytorjGZ2PPvrIHCctfQt9Junx/NWvfiW77767uQ/HMnoEt2lEvxFrYKsjKd977z3TJqi5oUOHmtHqWqsXoiNXNcAYOXJkEvY4dY0ePVq++OILkxELLZp51NO+oescy+hpeUzLtnRaL9qvXz9zXd+r+se3+fHU0+5aJ8bxlFZHoWsdXXNanqAZcsXx7Jxojpte6pda/QIcon9v9dhrbS5aD2y1ndo777xjWgE2x/GMjn6B/fzzzyM+k/RMjX7RffPNN819OJYd0IHBZ0iySy65xCouLrbef/99a/369eGlrq4ufJ+LL77YqqiosN577z1r0aJF1siRI82CnWveLUFxLKOnI6SdTqd1++23W8uXL7eeffZZKz8/3/rzn/8cvs+dd95plZSUWP/4xz+szz//3DrllFOs/v37W/X19Und91Q0ceJEM2L6tddes1auXGm99NJLVllZmXXNNdeE78PxbLsDyqeffmoW/Yi7//77zfXQ6P1ojttxxx1nHXTQQdaCBQusf/7zn6ajyjnnnGNlo/aOZ2Njo3XyySdbu+22m7VkyZKIzyWPxxN+DI5ndO/Nllp2S1Acy+gQ3KYR/c/Q2jJr1qzwffQP9KWXXmp17drVBBennXaa+UODjge3HMuOefXVV6399tvPtFUaNGiQ9cQTT0Tcrm2YbrzxRqtnz57mPqNHj7aWLVuWtP1NZdXV1ea9qF+ucnNzrT322MO64YYbIgIGjmfr5s6d2+rfSf3CEO1x27JliwkYCgsLraKiIuuCCy4wgUk2au946hevtj6X9PdCOJ7RvTejCW45ltGx6T8dyfQCAAAAqYqaWwAAAGQMglsAAABkDIJbAAAAZAyCWwAAAGQMglsAAABkDIJbAAAAZAyCWwAAAGQMglsAAABkDIJbAMggNptNZs+evUuP8Zvf/EYOPPDAmO0TACQSwS0ApKjzzz/fBKstl+OOOy7ZuwYAKcuZ7B0AALRNA9lZs2ZFrHO73UnbHwBIdWRuASCFaSBbXl4esXTt2tXctnz5cjniiCMkNzdX9tlnH3n77bd3+P1rr71W9t57b8nPz5c99thDbrzxRvF6vRH3ufPOO6Vnz57SpUsXmTRpkjQ0NCTs+QFArJG5BYA0FAgEZPz48SYoXbBggVRVVcmVV165w/00YH3mmWekd+/e8sUXX8jkyZPNumuuucbc/sILL5ga20cffVRGjRolf/rTn+Shhx4ygTAApCObZVlWsncCANB6ze2f//xnk5lt7vrrr5dhw4bJCSecIKtWrTKBq5ozZ46MGzdOXn75ZTn11FNbfcx7771Xnn/+eVm0aJH5+bDDDpODDjrIBLchhx56qMneLlmyJK7PDwDigcwtAKSwo48+Wh577LGIdaWlpSbD2rdv33Bgq0aOHLnD7//1r381mdhvv/1WampqxOfzSVFRUfj2pUuXysUXXxzxO/o4c+fOjcvzAYB4I7gFgBRWUFAge+65Z6d+d968eTJhwgS55ZZbZOzYsVJcXGyytvfdd1/M9xMAUgUDygAgDQ0ePFjWrFkj69evD6+bP39+xH0+/vhj6devn9xwww2mjGGvvfYyZQwtH0drdptr+TgAkE7I3AJACvN4PLJhw4aIdU6nU8aMGWO6IEycOFHuueceqa6uNkFscxrMrl692mRrhw8fLq+//rqpx23uiiuuMLW9Gvwefvjh8uyzz8pXX33FgDIAaYvMLQCkMB0k1qtXr4hFuxrY7XYTqNbX18shhxwiv/zlL+X222+P+N2TTz5Zpk2bJlOmTDEzjmkmV1uBNXfWWWeZddo9YejQoSaze8kllyT4WQJA7NAtAQAAABmDzC0AAAAyBsEtAAAAMgbBLQAAADIGwS0AAAAyBsEtAAAAMgbBLQAAADIGwS0AAAAyBsEtAAAAMgbBLQAAADIGwS0AAAAyBsEtAAAAJFP8fzN/m+6P4tAqAAAAAElFTkSuQmCC",
      "text/plain": [
       "<Figure size 800x500 with 1 Axes>"
      ]
     },
     "metadata": {},
     "output_type": "display_data"
    }
   ],
   "source": [
    "plt.figure(figsize=(8,5))\n",
    "sns.histplot(customer_df['age'], bins=20, kde=True, color='skyblue')\n",
    "plt.title('Histograma de edades de clientes')\n",
    "plt.xlabel('Edad')\n",
    "plt.ylabel('Frecuencia')\n",
    "plt.show()"
   ]
  },
  {
   "cell_type": "markdown",
   "id": "f3a8a737",
   "metadata": {},
   "source": [
    "### Conteo por categoría de producto"
   ]
  },
  {
   "cell_type": "code",
<<<<<<< HEAD
   "execution_count": 19,
=======
   "execution_count": 9,
>>>>>>> 79922766427995ec674541edf8acf3dee6cfdcaa
   "id": "e8d90f0e",
   "metadata": {},
   "outputs": [
    {
     "name": "stderr",
     "output_type": "stream",
     "text": [
<<<<<<< HEAD
      "C:\\Users\\fabia\\AppData\\Local\\Temp\\ipykernel_16132\\4061651656.py:2: FutureWarning: \n",
=======
      "/var/folders/mc/2gfzh5v563gcj4y_t_x5lrmc0000gn/T/ipykernel_1845/4061651656.py:2: FutureWarning: \n",
>>>>>>> 79922766427995ec674541edf8acf3dee6cfdcaa
      "\n",
      "Passing `palette` without assigning `hue` is deprecated and will be removed in v0.14.0. Assign the `x` variable to `hue` and set `legend=False` for the same effect.\n",
      "\n",
      "  sns.countplot(data=retail_df, x='product_category', order=retail_df['product_category'].value_counts().index, palette='viridis')\n"
     ]
    },
    {
     "data": {
      "image/png": "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",
      "text/plain": [
       "<Figure size 800x500 with 1 Axes>"
      ]
     },
     "metadata": {},
     "output_type": "display_data"
    }
   ],
   "source": [
    "plt.figure(figsize=(8,5))\n",
    "sns.countplot(data=retail_df, x='product_category', order=retail_df['product_category'].value_counts().index, palette='viridis')\n",
    "plt.title('Conteo por categoría de producto')\n",
    "plt.xlabel('Categoría de producto')\n",
    "plt.ylabel('Cantidad de ventas')\n",
    "plt.xticks(rotation=45)\n",
    "plt.show() #Que incluya los NAN "
   ]
  }
 ],
 "metadata": {
  "kernelspec": {
   "display_name": "Python 3",
   "language": "python",
   "name": "python3"
  },
  "language_info": {
   "codemirror_mode": {
    "name": "ipython",
    "version": 3
   },
   "file_extension": ".py",
   "mimetype": "text/x-python",
   "name": "python",
   "nbconvert_exporter": "python",
   "pygments_lexer": "ipython3",
   "version": "3.12.10"
  }
 },
 "nbformat": 4,
 "nbformat_minor": 5
}
